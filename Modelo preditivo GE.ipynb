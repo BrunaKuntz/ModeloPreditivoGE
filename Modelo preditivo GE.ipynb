{
 "cells": [
  {
   "cell_type": "code",
   "execution_count": 1,
   "metadata": {
    "tags": []
   },
   "outputs": [
    {
     "name": "stdout",
     "output_type": "stream",
     "text": [
      "Requirement already satisfied: gradio in c:\\users\\bruna\\anaconda3\\lib\\site-packages (2.2.10)\n",
      "Requirement already satisfied: flask-cachebuster in c:\\users\\bruna\\anaconda3\\lib\\site-packages (from gradio) (1.0.0)\n",
      "Requirement already satisfied: requests in c:\\users\\bruna\\anaconda3\\lib\\site-packages (from gradio) (2.25.1)\n",
      "Requirement already satisfied: pycryptodome in c:\\users\\bruna\\anaconda3\\lib\\site-packages (from gradio) (3.10.1)\n",
      "Requirement already satisfied: numpy in c:\\users\\bruna\\anaconda3\\lib\\site-packages (from gradio) (1.20.1)\n",
      "Requirement already satisfied: markdown2 in c:\\users\\bruna\\anaconda3\\lib\\site-packages (from gradio) (2.4.0)\n",
      "Requirement already satisfied: scipy in c:\\users\\bruna\\anaconda3\\lib\\site-packages (from gradio) (1.6.2)\n",
      "Requirement already satisfied: Flask-Cors>=3.0.8 in c:\\users\\bruna\\anaconda3\\lib\\site-packages (from gradio) (3.0.10)\n",
      "Requirement already satisfied: Flask-Login in c:\\users\\bruna\\anaconda3\\lib\\site-packages (from gradio) (0.5.0)\n",
      "Requirement already satisfied: pillow in c:\\users\\bruna\\anaconda3\\lib\\site-packages (from gradio) (8.2.0)\n",
      "Requirement already satisfied: Flask>=1.1.1 in c:\\users\\bruna\\anaconda3\\lib\\site-packages (from gradio) (1.1.2)\n",
      "Requirement already satisfied: matplotlib in c:\\users\\bruna\\anaconda3\\lib\\site-packages (from gradio) (3.3.4)\n",
      "Requirement already satisfied: pandas in c:\\users\\bruna\\anaconda3\\lib\\site-packages (from gradio) (1.2.4)\n",
      "Requirement already satisfied: analytics-python in c:\\users\\bruna\\anaconda3\\lib\\site-packages (from gradio) (1.4.0)\n",
      "Requirement already satisfied: paramiko in c:\\users\\bruna\\anaconda3\\lib\\site-packages (from gradio) (2.7.2)\n",
      "Requirement already satisfied: ffmpy in c:\\users\\bruna\\anaconda3\\lib\\site-packages (from gradio) (0.3.0)\n",
      "Requirement already satisfied: click>=5.1 in c:\\users\\bruna\\anaconda3\\lib\\site-packages (from Flask>=1.1.1->gradio) (7.1.2)\n",
      "Requirement already satisfied: Jinja2>=2.10.1 in c:\\users\\bruna\\anaconda3\\lib\\site-packages (from Flask>=1.1.1->gradio) (2.11.3)\n",
      "Requirement already satisfied: Werkzeug>=0.15 in c:\\users\\bruna\\anaconda3\\lib\\site-packages (from Flask>=1.1.1->gradio) (1.0.1)\n",
      "Requirement already satisfied: itsdangerous>=0.24 in c:\\users\\bruna\\anaconda3\\lib\\site-packages (from Flask>=1.1.1->gradio) (1.1.0)\n",
      "Requirement already satisfied: Six in c:\\users\\bruna\\anaconda3\\lib\\site-packages (from Flask-Cors>=3.0.8->gradio) (1.15.0)\n",
      "Requirement already satisfied: MarkupSafe>=0.23 in c:\\users\\bruna\\anaconda3\\lib\\site-packages (from Jinja2>=2.10.1->Flask>=1.1.1->gradio) (1.1.1)\n",
      "Requirement already satisfied: monotonic>=1.5 in c:\\users\\bruna\\anaconda3\\lib\\site-packages (from analytics-python->gradio) (1.6)\n",
      "Requirement already satisfied: backoff==1.10.0 in c:\\users\\bruna\\anaconda3\\lib\\site-packages (from analytics-python->gradio) (1.10.0)\n",
      "Requirement already satisfied: python-dateutil>2.1 in c:\\users\\bruna\\anaconda3\\lib\\site-packages (from analytics-python->gradio) (2.8.1)\n",
      "Requirement already satisfied: idna<3,>=2.5 in c:\\users\\bruna\\anaconda3\\lib\\site-packages (from requests->gradio) (2.10)\n",
      "Requirement already satisfied: chardet<5,>=3.0.2 in c:\\users\\bruna\\anaconda3\\lib\\site-packages (from requests->gradio) (4.0.0)\n",
      "Requirement already satisfied: urllib3<1.27,>=1.21.1 in c:\\users\\bruna\\anaconda3\\lib\\site-packages (from requests->gradio) (1.26.4)\n",
      "Requirement already satisfied: certifi>=2017.4.17 in c:\\users\\bruna\\anaconda3\\lib\\site-packages (from requests->gradio) (2020.12.5)\n",
      "Requirement already satisfied: pyparsing!=2.0.4,!=2.1.2,!=2.1.6,>=2.0.3 in c:\\users\\bruna\\anaconda3\\lib\\site-packages (from matplotlib->gradio) (2.4.7)\n",
      "Requirement already satisfied: cycler>=0.10 in c:\\users\\bruna\\anaconda3\\lib\\site-packages (from matplotlib->gradio) (0.10.0)\n",
      "Requirement already satisfied: kiwisolver>=1.0.1 in c:\\users\\bruna\\anaconda3\\lib\\site-packages (from matplotlib->gradio) (1.3.1)\n",
      "Requirement already satisfied: pytz>=2017.3 in c:\\users\\bruna\\anaconda3\\lib\\site-packages (from pandas->gradio) (2021.1)\n",
      "Requirement already satisfied: pynacl>=1.0.1 in c:\\users\\bruna\\anaconda3\\lib\\site-packages (from paramiko->gradio) (1.4.0)\n",
      "Requirement already satisfied: cryptography>=2.5 in c:\\users\\bruna\\anaconda3\\lib\\site-packages (from paramiko->gradio) (3.4.7)\n",
      "Requirement already satisfied: bcrypt>=3.1.3 in c:\\users\\bruna\\anaconda3\\lib\\site-packages (from paramiko->gradio) (3.2.0)\n",
      "Requirement already satisfied: cffi>=1.1 in c:\\users\\bruna\\anaconda3\\lib\\site-packages (from bcrypt>=3.1.3->paramiko->gradio) (1.14.5)\n",
      "Requirement already satisfied: pycparser in c:\\users\\bruna\\anaconda3\\lib\\site-packages (from cffi>=1.1->bcrypt>=3.1.3->paramiko->gradio) (2.20)\n",
      "Requirement already satisfied: shap in c:\\users\\bruna\\anaconda3\\lib\\site-packages (0.39.0)\n",
      "Requirement already satisfied: cloudpickle in c:\\users\\bruna\\anaconda3\\lib\\site-packages (from shap) (1.6.0)\n",
      "Requirement already satisfied: numpy in c:\\users\\bruna\\anaconda3\\lib\\site-packages (from shap) (1.20.1)\n",
      "Requirement already satisfied: scikit-learn in c:\\users\\bruna\\anaconda3\\lib\\site-packages (from shap) (0.24.1)\n",
      "Requirement already satisfied: slicer==0.0.7 in c:\\users\\bruna\\anaconda3\\lib\\site-packages (from shap) (0.0.7)\n",
      "Requirement already satisfied: numba in c:\\users\\bruna\\anaconda3\\lib\\site-packages (from shap) (0.53.1)\n",
      "Requirement already satisfied: pandas in c:\\users\\bruna\\anaconda3\\lib\\site-packages (from shap) (1.2.4)\n",
      "Requirement already satisfied: scipy in c:\\users\\bruna\\anaconda3\\lib\\site-packages (from shap) (1.6.2)\n",
      "Requirement already satisfied: tqdm>4.25.0 in c:\\users\\bruna\\anaconda3\\lib\\site-packages (from shap) (4.59.0)\n",
      "Requirement already satisfied: setuptools in c:\\users\\bruna\\anaconda3\\lib\\site-packages (from numba->shap) (52.0.0.post20210125)\n",
      "Requirement already satisfied: llvmlite<0.37,>=0.36.0rc1 in c:\\users\\bruna\\anaconda3\\lib\\site-packages (from numba->shap) (0.36.0)\n",
      "Requirement already satisfied: pytz>=2017.3 in c:\\users\\bruna\\anaconda3\\lib\\site-packages (from pandas->shap) (2021.1)\n",
      "Requirement already satisfied: python-dateutil>=2.7.3 in c:\\users\\bruna\\anaconda3\\lib\\site-packages (from pandas->shap) (2.8.1)\n",
      "Requirement already satisfied: six>=1.5 in c:\\users\\bruna\\anaconda3\\lib\\site-packages (from python-dateutil>=2.7.3->pandas->shap) (1.15.0)\n",
      "Requirement already satisfied: threadpoolctl>=2.0.0 in c:\\users\\bruna\\anaconda3\\lib\\site-packages (from scikit-learn->shap) (2.1.0)\n",
      "Requirement already satisfied: joblib>=0.11 in c:\\users\\bruna\\anaconda3\\lib\\site-packages (from scikit-learn->shap) (1.0.1)\n"
     ]
    }
   ],
   "source": [
    "!pip install gradio\n",
    "!pip install shap"
   ]
  },
  {
   "cell_type": "code",
   "execution_count": 2,
   "metadata": {
    "tags": []
   },
   "outputs": [],
   "source": [
    "# importações\n",
    "import pandas as pd\n",
    "import numpy as np\n",
    "import seaborn as sns\n",
    "import gradio as gr\n",
    "import shap\n",
    "import matplotlib.pyplot as plt\n",
    "from sklearn.model_selection import train_test_split, RandomizedSearchCV\n",
    "from sklearn.cluster import KMeans \n",
    "from sklearn.preprocessing import StandardScaler, RobustScaler, LabelEncoder\n",
    "from sklearn.tree import DecisionTreeClassifier, plot_tree\n",
    "from sklearn.ensemble import RandomForestClassifier\n",
    "from sklearn.metrics import classification_report, confusion_matrix, roc_auc_score"
   ]
  },
  {
   "cell_type": "markdown",
   "metadata": {},
   "source": [
    "## 1- Análise Exploratória dos dados"
   ]
  },
  {
   "cell_type": "markdown",
   "metadata": {},
   "source": [
    "*** Os dados de Visualizações de Página que não são de acesso público são apenas uma representação, não são dados verdadeiros"
   ]
  },
  {
   "cell_type": "markdown",
   "metadata": {},
   "source": [
    "Legendas:\n",
    "sim = 1\n",
    "não = 0\n",
    "\n",
    "Tipos de CTA:\n",
    "nenhum = 0\n",
    "assista = 1\n",
    "confira = 2\n",
    "conheça = 3\n",
    "entenda = 4\n",
    "saiba = 5\n",
    "veja = 6\n",
    "\n",
    "dias da semana: 0 = segunda\n",
    "1 = terça\n",
    "2 = quarta\n",
    "3 = quinta\n",
    "4 = sexta\n",
    "5 = sábado\n",
    "6 = domingo\n",
    "\n",
    "Categoria autores: \n",
    "Editorias = 0\n",
    "Jornalista sozinho = 1\n",
    "Jornalistas juntos = 2"
   ]
  },
  {
   "cell_type": "code",
   "execution_count": 3,
   "metadata": {
    "tags": []
   },
   "outputs": [
    {
     "data": {
      "text/html": [
       "<div>\n",
       "<style scoped>\n",
       "    .dataframe tbody tr th:only-of-type {\n",
       "        vertical-align: middle;\n",
       "    }\n",
       "\n",
       "    .dataframe tbody tr th {\n",
       "        vertical-align: top;\n",
       "    }\n",
       "\n",
       "    .dataframe thead th {\n",
       "        text-align: right;\n",
       "    }\n",
       "</style>\n",
       "<table border=\"1\" class=\"dataframe\">\n",
       "  <thead>\n",
       "    <tr style=\"text-align: right;\">\n",
       "      <th></th>\n",
       "      <th>Página</th>\n",
       "      <th>Visualizações de página</th>\n",
       "      <th>Categoria</th>\n",
       "      <th>Título</th>\n",
       "      <th>Ntítulo</th>\n",
       "      <th>Subtítulo</th>\n",
       "      <th>Nsubtítulo</th>\n",
       "      <th>Vídeo</th>\n",
       "      <th>Número de vídeo</th>\n",
       "      <th>Imagem</th>\n",
       "      <th>...</th>\n",
       "      <th>Data Publicação</th>\n",
       "      <th>Mês</th>\n",
       "      <th>Dia da semana</th>\n",
       "      <th>Hora Publicação</th>\n",
       "      <th>Autor</th>\n",
       "      <th>Categorias Autores</th>\n",
       "      <th>CTA</th>\n",
       "      <th>Tipos de CTA</th>\n",
       "      <th>CTAS</th>\n",
       "      <th>Horário</th>\n",
       "    </tr>\n",
       "  </thead>\n",
       "  <tbody>\n",
       "    <tr>\n",
       "      <th>0</th>\n",
       "      <td>globoesporte.globo.com/futebol/times/sao-paulo...</td>\n",
       "      <td>727.0</td>\n",
       "      <td>Sao-paulo</td>\n",
       "      <td>São paulo troca de comando após 28ª eliminação...</td>\n",
       "      <td>16</td>\n",
       "      <td>Julio casares assume presidência na sexta com ...</td>\n",
       "      <td>15</td>\n",
       "      <td>0</td>\n",
       "      <td>0</td>\n",
       "      <td>1</td>\n",
       "      <td>...</td>\n",
       "      <td>2020-12-31</td>\n",
       "      <td>12</td>\n",
       "      <td>3</td>\n",
       "      <td>07h00</td>\n",
       "      <td>Por redação do ge</td>\n",
       "      <td>0</td>\n",
       "      <td>0</td>\n",
       "      <td>-</td>\n",
       "      <td>0</td>\n",
       "      <td>7.00</td>\n",
       "    </tr>\n",
       "    <tr>\n",
       "      <th>1</th>\n",
       "      <td>globoesporte.globo.com/futebol/times/botafogo/...</td>\n",
       "      <td>391.0</td>\n",
       "      <td>Botafogo</td>\n",
       "      <td>Marcinho, ex-botafogo, é aguardado para presta...</td>\n",
       "      <td>16</td>\n",
       "      <td>Lateral é suspeito de dirigir carro em acident...</td>\n",
       "      <td>34</td>\n",
       "      <td>0</td>\n",
       "      <td>0</td>\n",
       "      <td>1</td>\n",
       "      <td>...</td>\n",
       "      <td>2021-01-01</td>\n",
       "      <td>1</td>\n",
       "      <td>4</td>\n",
       "      <td>11h49</td>\n",
       "      <td>Por felipe schmidt e rodrigo cerqueira</td>\n",
       "      <td>2</td>\n",
       "      <td>0</td>\n",
       "      <td>-</td>\n",
       "      <td>0</td>\n",
       "      <td>11.82</td>\n",
       "    </tr>\n",
       "    <tr>\n",
       "      <th>2</th>\n",
       "      <td>globoesporte.globo.com/futebol/futebol-interna...</td>\n",
       "      <td>387.0</td>\n",
       "      <td>Futebol-internacional</td>\n",
       "      <td>Libertadores 2021 terá time que joga a 4 mil m...</td>\n",
       "      <td>17</td>\n",
       "      <td>Always ready, de el alto, é campeão boliviano ...</td>\n",
       "      <td>29</td>\n",
       "      <td>0</td>\n",
       "      <td>0</td>\n",
       "      <td>1</td>\n",
       "      <td>...</td>\n",
       "      <td>2021-01-01</td>\n",
       "      <td>1</td>\n",
       "      <td>4</td>\n",
       "      <td>06h00</td>\n",
       "      <td>Por redação do ge</td>\n",
       "      <td>0</td>\n",
       "      <td>1</td>\n",
       "      <td>veja</td>\n",
       "      <td>6</td>\n",
       "      <td>6.00</td>\n",
       "    </tr>\n",
       "    <tr>\n",
       "      <th>3</th>\n",
       "      <td>globoesporte.globo.com/futebol/times/corinthia...</td>\n",
       "      <td>372.0</td>\n",
       "      <td>Corinthians</td>\n",
       "      <td>Corinthians encerra contrato com 12 jogadores ...</td>\n",
       "      <td>13</td>\n",
       "      <td>Mauro boselli e sidcley estão entre os que se ...</td>\n",
       "      <td>13</td>\n",
       "      <td>0</td>\n",
       "      <td>0</td>\n",
       "      <td>1</td>\n",
       "      <td>...</td>\n",
       "      <td>2020-12-31</td>\n",
       "      <td>12</td>\n",
       "      <td>3</td>\n",
       "      <td>11h00</td>\n",
       "      <td>Por marcelo braga</td>\n",
       "      <td>1</td>\n",
       "      <td>1</td>\n",
       "      <td>veja</td>\n",
       "      <td>6</td>\n",
       "      <td>11.00</td>\n",
       "    </tr>\n",
       "    <tr>\n",
       "      <th>4</th>\n",
       "      <td>globoesporte.globo.com/futebol/times/flamengo/...</td>\n",
       "      <td>355.0</td>\n",
       "      <td>Flamengo</td>\n",
       "      <td>Radar dos emprestados: yuri césar, ronaldo e h...</td>\n",
       "      <td>15</td>\n",
       "      <td>Alex muralha chega ao fim do contrato com o fl...</td>\n",
       "      <td>25</td>\n",
       "      <td>0</td>\n",
       "      <td>0</td>\n",
       "      <td>1</td>\n",
       "      <td>...</td>\n",
       "      <td>2021-01-01</td>\n",
       "      <td>1</td>\n",
       "      <td>4</td>\n",
       "      <td>05h00</td>\n",
       "      <td>Por fred huber</td>\n",
       "      <td>1</td>\n",
       "      <td>1</td>\n",
       "      <td>veja</td>\n",
       "      <td>6</td>\n",
       "      <td>5.00</td>\n",
       "    </tr>\n",
       "  </tbody>\n",
       "</table>\n",
       "<p>5 rows × 24 columns</p>\n",
       "</div>"
      ],
      "text/plain": [
       "                                              Página  Visualizações de página  \\\n",
       "0  globoesporte.globo.com/futebol/times/sao-paulo...                    727.0   \n",
       "1  globoesporte.globo.com/futebol/times/botafogo/...                    391.0   \n",
       "2  globoesporte.globo.com/futebol/futebol-interna...                    387.0   \n",
       "3  globoesporte.globo.com/futebol/times/corinthia...                    372.0   \n",
       "4  globoesporte.globo.com/futebol/times/flamengo/...                    355.0   \n",
       "\n",
       "               Categoria                                             Título  \\\n",
       "0              Sao-paulo  São paulo troca de comando após 28ª eliminação...   \n",
       "1               Botafogo  Marcinho, ex-botafogo, é aguardado para presta...   \n",
       "2  Futebol-internacional  Libertadores 2021 terá time que joga a 4 mil m...   \n",
       "3            Corinthians  Corinthians encerra contrato com 12 jogadores ...   \n",
       "4               Flamengo  Radar dos emprestados: yuri césar, ronaldo e h...   \n",
       "\n",
       "   Ntítulo                                          Subtítulo  Nsubtítulo  \\\n",
       "0       16  Julio casares assume presidência na sexta com ...          15   \n",
       "1       16  Lateral é suspeito de dirigir carro em acident...          34   \n",
       "2       17  Always ready, de el alto, é campeão boliviano ...          29   \n",
       "3       13  Mauro boselli e sidcley estão entre os que se ...          13   \n",
       "4       15  Alex muralha chega ao fim do contrato com o fl...          25   \n",
       "\n",
       "   Vídeo  Número de vídeo  Imagem  ...  Data Publicação  Mês Dia da semana  \\\n",
       "0      0                0       1  ...       2020-12-31   12             3   \n",
       "1      0                0       1  ...       2021-01-01    1             4   \n",
       "2      0                0       1  ...       2021-01-01    1             4   \n",
       "3      0                0       1  ...       2020-12-31   12             3   \n",
       "4      0                0       1  ...       2021-01-01    1             4   \n",
       "\n",
       "   Hora Publicação                                    Autor  \\\n",
       "0            07h00                       Por redação do ge    \n",
       "1            11h49  Por felipe schmidt e rodrigo cerqueira    \n",
       "2            06h00                       Por redação do ge    \n",
       "3            11h00                       Por marcelo braga    \n",
       "4            05h00                          Por fred huber    \n",
       "\n",
       "   Categorias Autores  CTA Tipos de CTA CTAS  Horário  \n",
       "0                   0    0            -    0     7.00  \n",
       "1                   2    0            -    0    11.82  \n",
       "2                   0    1         veja    6     6.00  \n",
       "3                   1    1         veja    6    11.00  \n",
       "4                   1    1         veja    6     5.00  \n",
       "\n",
       "[5 rows x 24 columns]"
      ]
     },
     "execution_count": 3,
     "metadata": {},
     "output_type": "execute_result"
    }
   ],
   "source": [
    "# importando base de dados\n",
    "df = pd.read_csv('dados_modificados.csv')\n",
    "df.head()"
   ]
  },
  {
   "cell_type": "code",
   "execution_count": 4,
   "metadata": {
    "tags": []
   },
   "outputs": [
    {
     "name": "stdout",
     "output_type": "stream",
     "text": [
      "<class 'pandas.core.frame.DataFrame'>\n",
      "RangeIndex: 25705 entries, 0 to 25704\n",
      "Data columns (total 24 columns):\n",
      " #   Column                   Non-Null Count  Dtype  \n",
      "---  ------                   --------------  -----  \n",
      " 0   Página                   25705 non-null  object \n",
      " 1   Visualizações de página  25705 non-null  float64\n",
      " 2   Categoria                25705 non-null  object \n",
      " 3   Título                   25705 non-null  object \n",
      " 4   Ntítulo                  25705 non-null  int64  \n",
      " 5   Subtítulo                25705 non-null  object \n",
      " 6   Nsubtítulo               25705 non-null  int64  \n",
      " 7   Vídeo                    25705 non-null  int64  \n",
      " 8   Número de vídeo          25705 non-null  int64  \n",
      " 9   Imagem                   25705 non-null  int64  \n",
      " 10  Número de imagens        25705 non-null  int64  \n",
      " 11  Palavras no texto        25705 non-null  int64  \n",
      " 12  Tags                     25705 non-null  object \n",
      " 13  Contém tag               25705 non-null  int64  \n",
      " 14  Data Publicação          25705 non-null  object \n",
      " 15  Mês                      25705 non-null  int64  \n",
      " 16  Dia da semana            25705 non-null  int64  \n",
      " 17  Hora Publicação          25705 non-null  object \n",
      " 18  Autor                    25705 non-null  object \n",
      " 19  Categorias Autores       25705 non-null  int64  \n",
      " 20  CTA                      25705 non-null  int64  \n",
      " 21  Tipos de CTA             25705 non-null  object \n",
      " 22  CTAS                     25705 non-null  int64  \n",
      " 23  Horário                  25705 non-null  float64\n",
      "dtypes: float64(2), int64(13), object(9)\n",
      "memory usage: 4.7+ MB\n"
     ]
    }
   ],
   "source": [
    "df.info()"
   ]
  },
  {
   "cell_type": "code",
   "execution_count": 5,
   "metadata": {
    "tags": []
   },
   "outputs": [
    {
     "data": {
      "text/html": [
       "<div>\n",
       "<style scoped>\n",
       "    .dataframe tbody tr th:only-of-type {\n",
       "        vertical-align: middle;\n",
       "    }\n",
       "\n",
       "    .dataframe tbody tr th {\n",
       "        vertical-align: top;\n",
       "    }\n",
       "\n",
       "    .dataframe thead th {\n",
       "        text-align: right;\n",
       "    }\n",
       "</style>\n",
       "<table border=\"1\" class=\"dataframe\">\n",
       "  <thead>\n",
       "    <tr style=\"text-align: right;\">\n",
       "      <th></th>\n",
       "      <th>Visualizações de página</th>\n",
       "      <th>Ntítulo</th>\n",
       "      <th>Nsubtítulo</th>\n",
       "      <th>Vídeo</th>\n",
       "      <th>Número de vídeo</th>\n",
       "      <th>Imagem</th>\n",
       "      <th>Número de imagens</th>\n",
       "      <th>Palavras no texto</th>\n",
       "      <th>Contém tag</th>\n",
       "      <th>Mês</th>\n",
       "      <th>Dia da semana</th>\n",
       "      <th>Categorias Autores</th>\n",
       "      <th>CTA</th>\n",
       "      <th>CTAS</th>\n",
       "      <th>Horário</th>\n",
       "    </tr>\n",
       "  </thead>\n",
       "  <tbody>\n",
       "    <tr>\n",
       "      <th>count</th>\n",
       "      <td>25705.000000</td>\n",
       "      <td>25705.000000</td>\n",
       "      <td>25705.000000</td>\n",
       "      <td>25705.000000</td>\n",
       "      <td>25705.000000</td>\n",
       "      <td>25705.000000</td>\n",
       "      <td>25705.000000</td>\n",
       "      <td>25705.000000</td>\n",
       "      <td>25705.000000</td>\n",
       "      <td>25705.000000</td>\n",
       "      <td>25705.000000</td>\n",
       "      <td>25705.000000</td>\n",
       "      <td>25705.000000</td>\n",
       "      <td>25705.000000</td>\n",
       "      <td>25705.000000</td>\n",
       "    </tr>\n",
       "    <tr>\n",
       "      <th>mean</th>\n",
       "      <td>50.551994</td>\n",
       "      <td>13.914958</td>\n",
       "      <td>20.783933</td>\n",
       "      <td>0.248317</td>\n",
       "      <td>0.248434</td>\n",
       "      <td>0.962459</td>\n",
       "      <td>2.168528</td>\n",
       "      <td>388.636802</td>\n",
       "      <td>0.592959</td>\n",
       "      <td>3.586189</td>\n",
       "      <td>2.894534</td>\n",
       "      <td>0.451585</td>\n",
       "      <td>0.128691</td>\n",
       "      <td>0.684575</td>\n",
       "      <td>13.322541</td>\n",
       "    </tr>\n",
       "    <tr>\n",
       "      <th>std</th>\n",
       "      <td>107.161819</td>\n",
       "      <td>2.635424</td>\n",
       "      <td>7.089761</td>\n",
       "      <td>0.432045</td>\n",
       "      <td>0.432383</td>\n",
       "      <td>0.190088</td>\n",
       "      <td>1.870537</td>\n",
       "      <td>298.121662</td>\n",
       "      <td>0.491292</td>\n",
       "      <td>1.814556</td>\n",
       "      <td>1.961831</td>\n",
       "      <td>0.649223</td>\n",
       "      <td>0.334864</td>\n",
       "      <td>1.860658</td>\n",
       "      <td>5.908845</td>\n",
       "    </tr>\n",
       "    <tr>\n",
       "      <th>min</th>\n",
       "      <td>2.000000</td>\n",
       "      <td>3.000000</td>\n",
       "      <td>0.000000</td>\n",
       "      <td>0.000000</td>\n",
       "      <td>0.000000</td>\n",
       "      <td>0.000000</td>\n",
       "      <td>0.000000</td>\n",
       "      <td>0.000000</td>\n",
       "      <td>0.000000</td>\n",
       "      <td>1.000000</td>\n",
       "      <td>0.000000</td>\n",
       "      <td>0.000000</td>\n",
       "      <td>0.000000</td>\n",
       "      <td>0.000000</td>\n",
       "      <td>0.000000</td>\n",
       "    </tr>\n",
       "    <tr>\n",
       "      <th>25%</th>\n",
       "      <td>7.000000</td>\n",
       "      <td>12.000000</td>\n",
       "      <td>15.000000</td>\n",
       "      <td>0.000000</td>\n",
       "      <td>0.000000</td>\n",
       "      <td>1.000000</td>\n",
       "      <td>1.000000</td>\n",
       "      <td>224.000000</td>\n",
       "      <td>0.000000</td>\n",
       "      <td>2.000000</td>\n",
       "      <td>1.000000</td>\n",
       "      <td>0.000000</td>\n",
       "      <td>0.000000</td>\n",
       "      <td>0.000000</td>\n",
       "      <td>9.000000</td>\n",
       "    </tr>\n",
       "    <tr>\n",
       "      <th>50%</th>\n",
       "      <td>16.000000</td>\n",
       "      <td>14.000000</td>\n",
       "      <td>20.000000</td>\n",
       "      <td>0.000000</td>\n",
       "      <td>0.000000</td>\n",
       "      <td>1.000000</td>\n",
       "      <td>2.000000</td>\n",
       "      <td>316.000000</td>\n",
       "      <td>1.000000</td>\n",
       "      <td>4.000000</td>\n",
       "      <td>3.000000</td>\n",
       "      <td>0.000000</td>\n",
       "      <td>0.000000</td>\n",
       "      <td>0.000000</td>\n",
       "      <td>13.580000</td>\n",
       "    </tr>\n",
       "    <tr>\n",
       "      <th>75%</th>\n",
       "      <td>47.000000</td>\n",
       "      <td>16.000000</td>\n",
       "      <td>27.000000</td>\n",
       "      <td>0.000000</td>\n",
       "      <td>0.000000</td>\n",
       "      <td>1.000000</td>\n",
       "      <td>3.000000</td>\n",
       "      <td>454.000000</td>\n",
       "      <td>1.000000</td>\n",
       "      <td>5.000000</td>\n",
       "      <td>5.000000</td>\n",
       "      <td>1.000000</td>\n",
       "      <td>0.000000</td>\n",
       "      <td>0.000000</td>\n",
       "      <td>18.130000</td>\n",
       "    </tr>\n",
       "    <tr>\n",
       "      <th>max</th>\n",
       "      <td>2428.000000</td>\n",
       "      <td>28.000000</td>\n",
       "      <td>49.000000</td>\n",
       "      <td>1.000000</td>\n",
       "      <td>2.000000</td>\n",
       "      <td>1.000000</td>\n",
       "      <td>58.000000</td>\n",
       "      <td>10418.000000</td>\n",
       "      <td>1.000000</td>\n",
       "      <td>12.000000</td>\n",
       "      <td>6.000000</td>\n",
       "      <td>2.000000</td>\n",
       "      <td>1.000000</td>\n",
       "      <td>6.000000</td>\n",
       "      <td>23.980000</td>\n",
       "    </tr>\n",
       "  </tbody>\n",
       "</table>\n",
       "</div>"
      ],
      "text/plain": [
       "       Visualizações de página       Ntítulo    Nsubtítulo         Vídeo  \\\n",
       "count             25705.000000  25705.000000  25705.000000  25705.000000   \n",
       "mean                 50.551994     13.914958     20.783933      0.248317   \n",
       "std                 107.161819      2.635424      7.089761      0.432045   \n",
       "min                   2.000000      3.000000      0.000000      0.000000   \n",
       "25%                   7.000000     12.000000     15.000000      0.000000   \n",
       "50%                  16.000000     14.000000     20.000000      0.000000   \n",
       "75%                  47.000000     16.000000     27.000000      0.000000   \n",
       "max                2428.000000     28.000000     49.000000      1.000000   \n",
       "\n",
       "       Número de vídeo        Imagem  Número de imagens  Palavras no texto  \\\n",
       "count     25705.000000  25705.000000       25705.000000       25705.000000   \n",
       "mean          0.248434      0.962459           2.168528         388.636802   \n",
       "std           0.432383      0.190088           1.870537         298.121662   \n",
       "min           0.000000      0.000000           0.000000           0.000000   \n",
       "25%           0.000000      1.000000           1.000000         224.000000   \n",
       "50%           0.000000      1.000000           2.000000         316.000000   \n",
       "75%           0.000000      1.000000           3.000000         454.000000   \n",
       "max           2.000000      1.000000          58.000000       10418.000000   \n",
       "\n",
       "         Contém tag           Mês  Dia da semana  Categorias Autores  \\\n",
       "count  25705.000000  25705.000000   25705.000000        25705.000000   \n",
       "mean       0.592959      3.586189       2.894534            0.451585   \n",
       "std        0.491292      1.814556       1.961831            0.649223   \n",
       "min        0.000000      1.000000       0.000000            0.000000   \n",
       "25%        0.000000      2.000000       1.000000            0.000000   \n",
       "50%        1.000000      4.000000       3.000000            0.000000   \n",
       "75%        1.000000      5.000000       5.000000            1.000000   \n",
       "max        1.000000     12.000000       6.000000            2.000000   \n",
       "\n",
       "                CTA          CTAS       Horário  \n",
       "count  25705.000000  25705.000000  25705.000000  \n",
       "mean       0.128691      0.684575     13.322541  \n",
       "std        0.334864      1.860658      5.908845  \n",
       "min        0.000000      0.000000      0.000000  \n",
       "25%        0.000000      0.000000      9.000000  \n",
       "50%        0.000000      0.000000     13.580000  \n",
       "75%        0.000000      0.000000     18.130000  \n",
       "max        1.000000      6.000000     23.980000  "
      ]
     },
     "execution_count": 5,
     "metadata": {},
     "output_type": "execute_result"
    }
   ],
   "source": [
    "df.describe()"
   ]
  },
  {
   "cell_type": "markdown",
   "metadata": {},
   "source": [
    "### Correlação"
   ]
  },
  {
   "cell_type": "code",
   "execution_count": 6,
   "metadata": {
    "tags": []
   },
   "outputs": [
    {
     "data": {
      "text/plain": [
       "<AxesSubplot:>"
      ]
     },
     "execution_count": 6,
     "metadata": {},
     "output_type": "execute_result"
    },
    {
     "data": {
      "image/png": "[encoded data removed]",
      "text/plain": [
       "<Figure size 1080x540 with 2 Axes>"
      ]
     },
     "metadata": {
      "needs_background": "light"
     },
     "output_type": "display_data"
    }
   ],
   "source": [
    "plt.figure(figsize=(15,7.5))\n",
    "sns.heatmap(df.corr(), annot=True)"
   ]
  },
  {
   "cell_type": "markdown",
   "metadata": {},
   "source": [
    "Anotações: \n",
    "Tirar categorias: ('CTAS', 'Visualizações de páginas únicas', 'Entradas', 'Taxa de Rejeição', 'Porcentagem de saída', 'Número de vídeo')"
   ]
  },
  {
   "cell_type": "markdown",
   "metadata": {},
   "source": [
    "### Histogramas"
   ]
  },
  {
   "cell_type": "code",
   "execution_count": 7,
   "metadata": {
    "tags": []
   },
   "outputs": [
    {
     "data": {
      "text/plain": [
       "<function matplotlib.pyplot.show(close=None, block=None)>"
      ]
     },
     "execution_count": 7,
     "metadata": {},
     "output_type": "execute_result"
    },
    {
     "data": {
      "image/png": "[encoded data removed]",
      "text/plain": [
       "<Figure size 1440x1080 with 16 Axes>"
      ]
     },
     "metadata": {
      "needs_background": "light"
     },
     "output_type": "display_data"
    }
   ],
   "source": [
    "df.hist(bins=50, figsize=(20,15))\n",
    "plt.show"
   ]
  },
  {
   "cell_type": "markdown",
   "metadata": {},
   "source": [
    "### Boxplot"
   ]
  },
  {
   "cell_type": "code",
   "execution_count": 8,
   "metadata": {
    "tags": []
   },
   "outputs": [
    {
     "data": {
      "text/plain": [
       "<AxesSubplot:xlabel='Categorias Autores', ylabel='Visualizações de página'>"
      ]
     },
     "execution_count": 8,
     "metadata": {},
     "output_type": "execute_result"
    },
    {
     "data": {
      "image/png": "[encoded data removed]",
      "text/plain": [
       "<Figure size 432x288 with 1 Axes>"
      ]
     },
     "metadata": {
      "needs_background": "light"
     },
     "output_type": "display_data"
    }
   ],
   "source": [
    "sns.boxplot(y='Visualizações de página', x='Categorias Autores', data=df, orient='v', width=0.5, showfliers=False)"
   ]
  },
  {
   "cell_type": "code",
   "execution_count": 9,
   "metadata": {
    "tags": []
   },
   "outputs": [
    {
     "data": {
      "text/plain": [
       "<AxesSubplot:xlabel='CTA', ylabel='Visualizações de página'>"
      ]
     },
     "execution_count": 9,
     "metadata": {},
     "output_type": "execute_result"
    },
    {
     "data": {
      "image/png": "[encoded data removed]",
      "text/plain": [
       "<Figure size 432x288 with 1 Axes>"
      ]
     },
     "metadata": {
      "needs_background": "light"
     },
     "output_type": "display_data"
    }
   ],
   "source": [
    "sns.boxplot(y='Visualizações de página', x='CTA', data=df, orient='v', width=0.5, showfliers=False)"
   ]
  },
  {
   "cell_type": "code",
   "execution_count": 10,
   "metadata": {
    "tags": []
   },
   "outputs": [
    {
     "data": {
      "text/plain": [
       "<AxesSubplot:xlabel='Contém tag', ylabel='Visualizações de página'>"
      ]
     },
     "execution_count": 10,
     "metadata": {},
     "output_type": "execute_result"
    },
    {
     "data": {
      "image/png": "[encoded data removed]",
      "text/plain": [
       "<Figure size 432x288 with 1 Axes>"
      ]
     },
     "metadata": {
      "needs_background": "light"
     },
     "output_type": "display_data"
    }
   ],
   "source": [
    "sns.boxplot(y='Visualizações de página', x='Contém tag', data=df, orient='v', width=0.5, showfliers=False)"
   ]
  },
  {
   "cell_type": "code",
   "execution_count": 11,
   "metadata": {
    "tags": []
   },
   "outputs": [
    {
     "data": {
      "text/plain": [
       "<AxesSubplot:xlabel='Imagem', ylabel='Visualizações de página'>"
      ]
     },
     "execution_count": 11,
     "metadata": {},
     "output_type": "execute_result"
    },
    {
     "data": {
      "image/png": "[encoded data removed]",
      "text/plain": [
       "<Figure size 432x288 with 1 Axes>"
      ]
     },
     "metadata": {
      "needs_background": "light"
     },
     "output_type": "display_data"
    }
   ],
   "source": [
    "sns.boxplot(y='Visualizações de página', x='Imagem', data=df, orient='v', width=0.5, showfliers=False)"
   ]
  },
  {
   "cell_type": "markdown",
   "metadata": {},
   "source": [
    "## 2- Tratamento dos dados e definição de features"
   ]
  },
  {
   "cell_type": "code",
   "execution_count": 12,
   "metadata": {},
   "outputs": [
    {
     "data": {
      "text/plain": [
       "384"
      ]
     },
     "execution_count": 12,
     "metadata": {},
     "output_type": "execute_result"
    }
   ],
   "source": [
    "len(df['Categoria'].unique())"
   ]
  },
  {
   "cell_type": "code",
   "execution_count": 13,
   "metadata": {},
   "outputs": [],
   "source": [
    "nsub = []\n",
    "for n in df['Nsubtítulo']:\n",
    "    if n == \"-\":\n",
    "        nsub.append(0)\n",
    "    else:\n",
    "        nsub.append(int(n))\n",
    "df['Nsubtítulo'] = nsub"
   ]
  },
  {
   "cell_type": "code",
   "execution_count": 14,
   "metadata": {},
   "outputs": [],
   "source": [
    "horas = []\n",
    "for i in df['Hora Publicação']:\n",
    "    hora = int(i[:2])\n",
    "    minuto = int(i[3:]) / 60\n",
    "    hora += round(minuto, 2)\n",
    "    horas.append(hora)\n",
    "df['Horário'] = horas"
   ]
  },
  {
   "cell_type": "markdown",
   "metadata": {},
   "source": [
    "### Classificação Categorias usando KMeans"
   ]
  },
  {
   "cell_type": "code",
   "execution_count": 15,
   "metadata": {
    "tags": []
   },
   "outputs": [
    {
     "data": {
      "text/html": [
       "<div>\n",
       "<style scoped>\n",
       "    .dataframe tbody tr th:only-of-type {\n",
       "        vertical-align: middle;\n",
       "    }\n",
       "\n",
       "    .dataframe tbody tr th {\n",
       "        vertical-align: top;\n",
       "    }\n",
       "\n",
       "    .dataframe thead th {\n",
       "        text-align: right;\n",
       "    }\n",
       "</style>\n",
       "<table border=\"1\" class=\"dataframe\">\n",
       "  <thead>\n",
       "    <tr style=\"text-align: right;\">\n",
       "      <th></th>\n",
       "      <th>Página</th>\n",
       "      <th>Visualizações de página</th>\n",
       "      <th>Visualizações de página/Página</th>\n",
       "    </tr>\n",
       "    <tr>\n",
       "      <th>Categoria</th>\n",
       "      <th></th>\n",
       "      <th></th>\n",
       "      <th></th>\n",
       "    </tr>\n",
       "  </thead>\n",
       "  <tbody>\n",
       "    <tr>\n",
       "      <th>Copa do brasil</th>\n",
       "      <td>3</td>\n",
       "      <td>439.0</td>\n",
       "      <td>146.0</td>\n",
       "    </tr>\n",
       "    <tr>\n",
       "      <th>Redacao-sportv</th>\n",
       "      <td>6</td>\n",
       "      <td>859.0</td>\n",
       "      <td>143.0</td>\n",
       "    </tr>\n",
       "    <tr>\n",
       "      <th>Mundial-de-clubes</th>\n",
       "      <td>37</td>\n",
       "      <td>5172.0</td>\n",
       "      <td>140.0</td>\n",
       "    </tr>\n",
       "    <tr>\n",
       "      <th>Esgrima</th>\n",
       "      <td>1</td>\n",
       "      <td>137.0</td>\n",
       "      <td>137.0</td>\n",
       "    </tr>\n",
       "    <tr>\n",
       "      <th>Copa américa</th>\n",
       "      <td>1</td>\n",
       "      <td>137.0</td>\n",
       "      <td>137.0</td>\n",
       "    </tr>\n",
       "    <tr>\n",
       "      <th>...</th>\n",
       "      <td>...</td>\n",
       "      <td>...</td>\n",
       "      <td>...</td>\n",
       "    </tr>\n",
       "    <tr>\n",
       "      <th>Serra-macaense</th>\n",
       "      <td>1</td>\n",
       "      <td>4.0</td>\n",
       "      <td>4.0</td>\n",
       "    </tr>\n",
       "    <tr>\n",
       "      <th>Sao-paulo-crystal</th>\n",
       "      <td>1</td>\n",
       "      <td>4.0</td>\n",
       "      <td>4.0</td>\n",
       "    </tr>\n",
       "    <tr>\n",
       "      <th>Pbr</th>\n",
       "      <td>1</td>\n",
       "      <td>3.0</td>\n",
       "      <td>3.0</td>\n",
       "    </tr>\n",
       "    <tr>\n",
       "      <th>Porto-velho</th>\n",
       "      <td>1</td>\n",
       "      <td>3.0</td>\n",
       "      <td>3.0</td>\n",
       "    </tr>\n",
       "    <tr>\n",
       "      <th>Portuguesa-santista</th>\n",
       "      <td>1</td>\n",
       "      <td>3.0</td>\n",
       "      <td>3.0</td>\n",
       "    </tr>\n",
       "  </tbody>\n",
       "</table>\n",
       "<p>384 rows × 3 columns</p>\n",
       "</div>"
      ],
      "text/plain": [
       "                     Página  Visualizações de página  \\\n",
       "Categoria                                              \n",
       "Copa do brasil            3                    439.0   \n",
       "Redacao-sportv            6                    859.0   \n",
       "Mundial-de-clubes        37                   5172.0   \n",
       "Esgrima                   1                    137.0   \n",
       "Copa américa              1                    137.0   \n",
       "...                     ...                      ...   \n",
       "Serra-macaense            1                      4.0   \n",
       "Sao-paulo-crystal         1                      4.0   \n",
       "Pbr                       1                      3.0   \n",
       "Porto-velho               1                      3.0   \n",
       "Portuguesa-santista       1                      3.0   \n",
       "\n",
       "                     Visualizações de página/Página  \n",
       "Categoria                                            \n",
       "Copa do brasil                                146.0  \n",
       "Redacao-sportv                                143.0  \n",
       "Mundial-de-clubes                             140.0  \n",
       "Esgrima                                       137.0  \n",
       "Copa américa                                  137.0  \n",
       "...                                             ...  \n",
       "Serra-macaense                                  4.0  \n",
       "Sao-paulo-crystal                               4.0  \n",
       "Pbr                                             3.0  \n",
       "Porto-velho                                     3.0  \n",
       "Portuguesa-santista                             3.0  \n",
       "\n",
       "[384 rows x 3 columns]"
      ]
     },
     "execution_count": 15,
     "metadata": {},
     "output_type": "execute_result"
    }
   ],
   "source": [
    "pg = pd.DataFrame(df.groupby('Categoria').agg({'Página' : 'count', \"Visualizações de página\" : 'sum'}))\n",
    "pg['Visualizações de página/Página'] = round(pg[\"Visualizações de página\"]/pg['Página'])\n",
    "pg.sort_values(by=\"Visualizações de página/Página\", ascending=False)"
   ]
  },
  {
   "cell_type": "code",
   "execution_count": 16,
   "metadata": {},
   "outputs": [],
   "source": [
    "# definição de features\n",
    "features = ['Página', 'Visualizações de página/Página']"
   ]
  },
  {
   "cell_type": "code",
   "execution_count": 17,
   "metadata": {},
   "outputs": [
    {
     "data": {
      "text/html": [
       "<div>\n",
       "<style scoped>\n",
       "    .dataframe tbody tr th:only-of-type {\n",
       "        vertical-align: middle;\n",
       "    }\n",
       "\n",
       "    .dataframe tbody tr th {\n",
       "        vertical-align: top;\n",
       "    }\n",
       "\n",
       "    .dataframe thead th {\n",
       "        text-align: right;\n",
       "    }\n",
       "</style>\n",
       "<table border=\"1\" class=\"dataframe\">\n",
       "  <thead>\n",
       "    <tr style=\"text-align: right;\">\n",
       "      <th></th>\n",
       "      <th>Categoria</th>\n",
       "      <th>Página</th>\n",
       "      <th>Visualizações de página</th>\n",
       "      <th>Visualizações de página/Página</th>\n",
       "    </tr>\n",
       "    <tr>\n",
       "      <th>cluster_label</th>\n",
       "      <th></th>\n",
       "      <th></th>\n",
       "      <th></th>\n",
       "      <th></th>\n",
       "    </tr>\n",
       "  </thead>\n",
       "  <tbody>\n",
       "    <tr>\n",
       "      <th>0</th>\n",
       "      <td>298</td>\n",
       "      <td>298</td>\n",
       "      <td>298</td>\n",
       "      <td>298</td>\n",
       "    </tr>\n",
       "    <tr>\n",
       "      <th>1</th>\n",
       "      <td>69</td>\n",
       "      <td>69</td>\n",
       "      <td>69</td>\n",
       "      <td>69</td>\n",
       "    </tr>\n",
       "    <tr>\n",
       "      <th>2</th>\n",
       "      <td>17</td>\n",
       "      <td>17</td>\n",
       "      <td>17</td>\n",
       "      <td>17</td>\n",
       "    </tr>\n",
       "  </tbody>\n",
       "</table>\n",
       "</div>"
      ],
      "text/plain": [
       "               Categoria  Página  Visualizações de página  \\\n",
       "cluster_label                                               \n",
       "0                    298     298                      298   \n",
       "1                     69      69                       69   \n",
       "2                     17      17                       17   \n",
       "\n",
       "               Visualizações de página/Página  \n",
       "cluster_label                                  \n",
       "0                                         298  \n",
       "1                                          69  \n",
       "2                                          17  "
      ]
     },
     "execution_count": 17,
     "metadata": {},
     "output_type": "execute_result"
    }
   ],
   "source": [
    "X = pg[features]\n",
    "scaler = StandardScaler()\n",
    "scaled_X = scaler.fit_transform(X)\n",
    "kmean = KMeans(n_clusters=3, random_state=12345)\n",
    "kmean.fit(scaled_X)\n",
    "cluster_label = kmean.predict(scaled_X)\n",
    "pg[\"cluster_label\"] = cluster_label\n",
    "pg = pg.reset_index()\n",
    "pg.groupby('cluster_label').count()"
   ]
  },
  {
   "cell_type": "code",
   "execution_count": 18,
   "metadata": {},
   "outputs": [
    {
     "data": {
      "text/html": [
       "<div>\n",
       "<style scoped>\n",
       "    .dataframe tbody tr th:only-of-type {\n",
       "        vertical-align: middle;\n",
       "    }\n",
       "\n",
       "    .dataframe tbody tr th {\n",
       "        vertical-align: top;\n",
       "    }\n",
       "\n",
       "    .dataframe thead th {\n",
       "        text-align: right;\n",
       "    }\n",
       "</style>\n",
       "<table border=\"1\" class=\"dataframe\">\n",
       "  <thead>\n",
       "    <tr style=\"text-align: right;\">\n",
       "      <th></th>\n",
       "      <th>Categoria</th>\n",
       "      <th>Página</th>\n",
       "      <th>Visualizações de página</th>\n",
       "      <th>Visualizações de página/Página</th>\n",
       "      <th>cluster_label</th>\n",
       "    </tr>\n",
       "  </thead>\n",
       "  <tbody>\n",
       "    <tr>\n",
       "      <th>6</th>\n",
       "      <td>America-mg</td>\n",
       "      <td>93</td>\n",
       "      <td>4536.0</td>\n",
       "      <td>49.0</td>\n",
       "      <td>1</td>\n",
       "    </tr>\n",
       "    <tr>\n",
       "      <th>11</th>\n",
       "      <td>Araguacema</td>\n",
       "      <td>2</td>\n",
       "      <td>114.0</td>\n",
       "      <td>57.0</td>\n",
       "      <td>1</td>\n",
       "    </tr>\n",
       "    <tr>\n",
       "      <th>12</th>\n",
       "      <td>Argentina</td>\n",
       "      <td>1</td>\n",
       "      <td>87.0</td>\n",
       "      <td>87.0</td>\n",
       "      <td>1</td>\n",
       "    </tr>\n",
       "    <tr>\n",
       "      <th>15</th>\n",
       "      <td>Athletic-club</td>\n",
       "      <td>12</td>\n",
       "      <td>855.0</td>\n",
       "      <td>71.0</td>\n",
       "      <td>1</td>\n",
       "    </tr>\n",
       "    <tr>\n",
       "      <th>25</th>\n",
       "      <td>Augustox</td>\n",
       "      <td>1</td>\n",
       "      <td>51.0</td>\n",
       "      <td>51.0</td>\n",
       "      <td>1</td>\n",
       "    </tr>\n",
       "    <tr>\n",
       "      <th>...</th>\n",
       "      <td>...</td>\n",
       "      <td>...</td>\n",
       "      <td>...</td>\n",
       "      <td>...</td>\n",
       "      <td>...</td>\n",
       "    </tr>\n",
       "    <tr>\n",
       "      <th>340</th>\n",
       "      <td>Sportv-news</td>\n",
       "      <td>1</td>\n",
       "      <td>63.0</td>\n",
       "      <td>63.0</td>\n",
       "      <td>1</td>\n",
       "    </tr>\n",
       "    <tr>\n",
       "      <th>358</th>\n",
       "      <td>Triatlo</td>\n",
       "      <td>1</td>\n",
       "      <td>55.0</td>\n",
       "      <td>55.0</td>\n",
       "      <td>1</td>\n",
       "    </tr>\n",
       "    <tr>\n",
       "      <th>359</th>\n",
       "      <td>Troca-de-passes</td>\n",
       "      <td>5</td>\n",
       "      <td>374.0</td>\n",
       "      <td>75.0</td>\n",
       "      <td>1</td>\n",
       "    </tr>\n",
       "    <tr>\n",
       "      <th>362</th>\n",
       "      <td>Tutoriais</td>\n",
       "      <td>8</td>\n",
       "      <td>553.0</td>\n",
       "      <td>69.0</td>\n",
       "      <td>1</td>\n",
       "    </tr>\n",
       "    <tr>\n",
       "      <th>369</th>\n",
       "      <td>Verao-espetacular</td>\n",
       "      <td>25</td>\n",
       "      <td>1823.0</td>\n",
       "      <td>73.0</td>\n",
       "      <td>1</td>\n",
       "    </tr>\n",
       "  </tbody>\n",
       "</table>\n",
       "<p>69 rows × 5 columns</p>\n",
       "</div>"
      ],
      "text/plain": [
       "             Categoria  Página  Visualizações de página  \\\n",
       "6           America-mg      93                   4536.0   \n",
       "11          Araguacema       2                    114.0   \n",
       "12           Argentina       1                     87.0   \n",
       "15       Athletic-club      12                    855.0   \n",
       "25            Augustox       1                     51.0   \n",
       "..                 ...     ...                      ...   \n",
       "340        Sportv-news       1                     63.0   \n",
       "358            Triatlo       1                     55.0   \n",
       "359    Troca-de-passes       5                    374.0   \n",
       "362          Tutoriais       8                    553.0   \n",
       "369  Verao-espetacular      25                   1823.0   \n",
       "\n",
       "     Visualizações de página/Página  cluster_label  \n",
       "6                              49.0              1  \n",
       "11                             57.0              1  \n",
       "12                             87.0              1  \n",
       "15                             71.0              1  \n",
       "25                             51.0              1  \n",
       "..                              ...            ...  \n",
       "340                            63.0              1  \n",
       "358                            55.0              1  \n",
       "359                            75.0              1  \n",
       "362                            69.0              1  \n",
       "369                            73.0              1  \n",
       "\n",
       "[69 rows x 5 columns]"
      ]
     },
     "execution_count": 18,
     "metadata": {},
     "output_type": "execute_result"
    }
   ],
   "source": [
    "pg.loc[pg.cluster_label == 1]"
   ]
  },
  {
   "cell_type": "code",
   "execution_count": 19,
   "metadata": {},
   "outputs": [
    {
     "data": {
      "text/html": [
       "<div>\n",
       "<style scoped>\n",
       "    .dataframe tbody tr th:only-of-type {\n",
       "        vertical-align: middle;\n",
       "    }\n",
       "\n",
       "    .dataframe tbody tr th {\n",
       "        vertical-align: top;\n",
       "    }\n",
       "\n",
       "    .dataframe thead th {\n",
       "        text-align: right;\n",
       "    }\n",
       "</style>\n",
       "<table border=\"1\" class=\"dataframe\">\n",
       "  <thead>\n",
       "    <tr style=\"text-align: right;\">\n",
       "      <th></th>\n",
       "      <th>Página</th>\n",
       "      <th>Visualizações de página</th>\n",
       "      <th>Visualizações de página/Página</th>\n",
       "    </tr>\n",
       "    <tr>\n",
       "      <th>cluster_label</th>\n",
       "      <th></th>\n",
       "      <th></th>\n",
       "      <th></th>\n",
       "    </tr>\n",
       "  </thead>\n",
       "  <tbody>\n",
       "    <tr>\n",
       "      <th>0</th>\n",
       "      <td>24.627517</td>\n",
       "      <td>520.053691</td>\n",
       "      <td>17.328859</td>\n",
       "    </tr>\n",
       "    <tr>\n",
       "      <th>1</th>\n",
       "      <td>58.202899</td>\n",
       "      <td>4738.159420</td>\n",
       "      <td>79.275362</td>\n",
       "    </tr>\n",
       "    <tr>\n",
       "      <th>2</th>\n",
       "      <td>844.117647</td>\n",
       "      <td>48090.000000</td>\n",
       "      <td>53.823529</td>\n",
       "    </tr>\n",
       "  </tbody>\n",
       "</table>\n",
       "</div>"
      ],
      "text/plain": [
       "                   Página  Visualizações de página  \\\n",
       "cluster_label                                        \n",
       "0               24.627517               520.053691   \n",
       "1               58.202899              4738.159420   \n",
       "2              844.117647             48090.000000   \n",
       "\n",
       "               Visualizações de página/Página  \n",
       "cluster_label                                  \n",
       "0                                   17.328859  \n",
       "1                                   79.275362  \n",
       "2                                   53.823529  "
      ]
     },
     "execution_count": 19,
     "metadata": {},
     "output_type": "execute_result"
    }
   ],
   "source": [
    "pg.groupby('cluster_label').mean()"
   ]
  },
  {
   "cell_type": "code",
   "execution_count": 20,
   "metadata": {},
   "outputs": [],
   "source": [
    "cluster0 = list(pg.loc[pg[\"cluster_label\"]==0]['Categoria'])\n",
    "cluster1 = list(pg.loc[pg[\"cluster_label\"]==1]['Categoria'])\n",
    "cluster2 = list(pg.loc[pg[\"cluster_label\"]==2]['Categoria'])"
   ]
  },
  {
   "cell_type": "markdown",
   "metadata": {},
   "source": [
    "## Classificações Clusters\n",
    "\n",
    "### Cluster 0 = Categorias com matéria média e pouco view\n",
    "### Cluster 1 = Categorias com pouca matéria e com view médio\n",
    "### Cluster 2 = Categorias com muita matéria e muito view\n"
   ]
  },
  {
   "cell_type": "markdown",
   "metadata": {},
   "source": [
    "### Classificação por Categoria no DataFrame Original"
   ]
  },
  {
   "cell_type": "code",
   "execution_count": 21,
   "metadata": {},
   "outputs": [
    {
     "data": {
      "text/plain": [
       "25705"
      ]
     },
     "execution_count": 21,
     "metadata": {},
     "output_type": "execute_result"
    }
   ],
   "source": [
    "len(df)"
   ]
  },
  {
   "cell_type": "code",
   "execution_count": 22,
   "metadata": {
    "tags": []
   },
   "outputs": [],
   "source": [
    "# drop categoria outlier\n",
    "df = df[df[\"Categoria\"].str.contains(\"Copa sul-americana\")==False]"
   ]
  },
  {
   "cell_type": "code",
   "execution_count": 23,
   "metadata": {
    "tags": []
   },
   "outputs": [],
   "source": [
    "cluster = []\n",
    "\n",
    "for j in df[\"Categoria\"]:\n",
    "    if (j in cluster0):\n",
    "        cluster.append(0)\n",
    "    elif (j in cluster1):\n",
    "        cluster.append(1)\n",
    "    elif (j in cluster2):\n",
    "        cluster.append(2)\n",
    "    elif (j in cluster3):\n",
    "        cluster.append(3)"
   ]
  },
  {
   "cell_type": "code",
   "execution_count": 24,
   "metadata": {},
   "outputs": [],
   "source": [
    "df['Classificação Categorias'] = cluster"
   ]
  },
  {
   "cell_type": "code",
   "execution_count": 25,
   "metadata": {
    "tags": []
   },
   "outputs": [
    {
     "data": {
      "text/html": [
       "<div>\n",
       "<style scoped>\n",
       "    .dataframe tbody tr th:only-of-type {\n",
       "        vertical-align: middle;\n",
       "    }\n",
       "\n",
       "    .dataframe tbody tr th {\n",
       "        vertical-align: top;\n",
       "    }\n",
       "\n",
       "    .dataframe thead th {\n",
       "        text-align: right;\n",
       "    }\n",
       "</style>\n",
       "<table border=\"1\" class=\"dataframe\">\n",
       "  <thead>\n",
       "    <tr style=\"text-align: right;\">\n",
       "      <th></th>\n",
       "      <th>Página</th>\n",
       "      <th>Visualizações de página</th>\n",
       "      <th>Categoria</th>\n",
       "      <th>Título</th>\n",
       "      <th>Ntítulo</th>\n",
       "      <th>Subtítulo</th>\n",
       "      <th>Nsubtítulo</th>\n",
       "      <th>Vídeo</th>\n",
       "      <th>Número de vídeo</th>\n",
       "      <th>Imagem</th>\n",
       "      <th>...</th>\n",
       "      <th>Mês</th>\n",
       "      <th>Dia da semana</th>\n",
       "      <th>Hora Publicação</th>\n",
       "      <th>Autor</th>\n",
       "      <th>Categorias Autores</th>\n",
       "      <th>CTA</th>\n",
       "      <th>Tipos de CTA</th>\n",
       "      <th>CTAS</th>\n",
       "      <th>Horário</th>\n",
       "      <th>Classificação Categorias</th>\n",
       "    </tr>\n",
       "  </thead>\n",
       "  <tbody>\n",
       "    <tr>\n",
       "      <th>0</th>\n",
       "      <td>globoesporte.globo.com/futebol/times/sao-paulo...</td>\n",
       "      <td>727.0</td>\n",
       "      <td>Sao-paulo</td>\n",
       "      <td>São paulo troca de comando após 28ª eliminação...</td>\n",
       "      <td>16</td>\n",
       "      <td>Julio casares assume presidência na sexta com ...</td>\n",
       "      <td>15</td>\n",
       "      <td>0</td>\n",
       "      <td>0</td>\n",
       "      <td>1</td>\n",
       "      <td>...</td>\n",
       "      <td>12</td>\n",
       "      <td>3</td>\n",
       "      <td>07h00</td>\n",
       "      <td>Por redação do ge</td>\n",
       "      <td>0</td>\n",
       "      <td>0</td>\n",
       "      <td>-</td>\n",
       "      <td>0</td>\n",
       "      <td>7.00</td>\n",
       "      <td>2</td>\n",
       "    </tr>\n",
       "    <tr>\n",
       "      <th>1</th>\n",
       "      <td>globoesporte.globo.com/futebol/times/botafogo/...</td>\n",
       "      <td>391.0</td>\n",
       "      <td>Botafogo</td>\n",
       "      <td>Marcinho, ex-botafogo, é aguardado para presta...</td>\n",
       "      <td>16</td>\n",
       "      <td>Lateral é suspeito de dirigir carro em acident...</td>\n",
       "      <td>34</td>\n",
       "      <td>0</td>\n",
       "      <td>0</td>\n",
       "      <td>1</td>\n",
       "      <td>...</td>\n",
       "      <td>1</td>\n",
       "      <td>4</td>\n",
       "      <td>11h49</td>\n",
       "      <td>Por felipe schmidt e rodrigo cerqueira</td>\n",
       "      <td>2</td>\n",
       "      <td>0</td>\n",
       "      <td>-</td>\n",
       "      <td>0</td>\n",
       "      <td>11.82</td>\n",
       "      <td>2</td>\n",
       "    </tr>\n",
       "    <tr>\n",
       "      <th>2</th>\n",
       "      <td>globoesporte.globo.com/futebol/futebol-interna...</td>\n",
       "      <td>387.0</td>\n",
       "      <td>Futebol-internacional</td>\n",
       "      <td>Libertadores 2021 terá time que joga a 4 mil m...</td>\n",
       "      <td>17</td>\n",
       "      <td>Always ready, de el alto, é campeão boliviano ...</td>\n",
       "      <td>29</td>\n",
       "      <td>0</td>\n",
       "      <td>0</td>\n",
       "      <td>1</td>\n",
       "      <td>...</td>\n",
       "      <td>1</td>\n",
       "      <td>4</td>\n",
       "      <td>06h00</td>\n",
       "      <td>Por redação do ge</td>\n",
       "      <td>0</td>\n",
       "      <td>1</td>\n",
       "      <td>veja</td>\n",
       "      <td>6</td>\n",
       "      <td>6.00</td>\n",
       "      <td>1</td>\n",
       "    </tr>\n",
       "    <tr>\n",
       "      <th>3</th>\n",
       "      <td>globoesporte.globo.com/futebol/times/corinthia...</td>\n",
       "      <td>372.0</td>\n",
       "      <td>Corinthians</td>\n",
       "      <td>Corinthians encerra contrato com 12 jogadores ...</td>\n",
       "      <td>13</td>\n",
       "      <td>Mauro boselli e sidcley estão entre os que se ...</td>\n",
       "      <td>13</td>\n",
       "      <td>0</td>\n",
       "      <td>0</td>\n",
       "      <td>1</td>\n",
       "      <td>...</td>\n",
       "      <td>12</td>\n",
       "      <td>3</td>\n",
       "      <td>11h00</td>\n",
       "      <td>Por marcelo braga</td>\n",
       "      <td>1</td>\n",
       "      <td>1</td>\n",
       "      <td>veja</td>\n",
       "      <td>6</td>\n",
       "      <td>11.00</td>\n",
       "      <td>2</td>\n",
       "    </tr>\n",
       "    <tr>\n",
       "      <th>4</th>\n",
       "      <td>globoesporte.globo.com/futebol/times/flamengo/...</td>\n",
       "      <td>355.0</td>\n",
       "      <td>Flamengo</td>\n",
       "      <td>Radar dos emprestados: yuri césar, ronaldo e h...</td>\n",
       "      <td>15</td>\n",
       "      <td>Alex muralha chega ao fim do contrato com o fl...</td>\n",
       "      <td>25</td>\n",
       "      <td>0</td>\n",
       "      <td>0</td>\n",
       "      <td>1</td>\n",
       "      <td>...</td>\n",
       "      <td>1</td>\n",
       "      <td>4</td>\n",
       "      <td>05h00</td>\n",
       "      <td>Por fred huber</td>\n",
       "      <td>1</td>\n",
       "      <td>1</td>\n",
       "      <td>veja</td>\n",
       "      <td>6</td>\n",
       "      <td>5.00</td>\n",
       "      <td>2</td>\n",
       "    </tr>\n",
       "    <tr>\n",
       "      <th>...</th>\n",
       "      <td>...</td>\n",
       "      <td>...</td>\n",
       "      <td>...</td>\n",
       "      <td>...</td>\n",
       "      <td>...</td>\n",
       "      <td>...</td>\n",
       "      <td>...</td>\n",
       "      <td>...</td>\n",
       "      <td>...</td>\n",
       "      <td>...</td>\n",
       "      <td>...</td>\n",
       "      <td>...</td>\n",
       "      <td>...</td>\n",
       "      <td>...</td>\n",
       "      <td>...</td>\n",
       "      <td>...</td>\n",
       "      <td>...</td>\n",
       "      <td>...</td>\n",
       "      <td>...</td>\n",
       "      <td>...</td>\n",
       "      <td>...</td>\n",
       "    </tr>\n",
       "    <tr>\n",
       "      <th>25700</th>\n",
       "      <td>ge.globo.com/futebol/selecao-brasileira/notici...</td>\n",
       "      <td>4.0</td>\n",
       "      <td>Selecao-brasileira</td>\n",
       "      <td>Thiago silva vê marquinhos entre os três melho...</td>\n",
       "      <td>17</td>\n",
       "      <td>Jogador do chelsea ressalta maturidade do comp...</td>\n",
       "      <td>31</td>\n",
       "      <td>0</td>\n",
       "      <td>0</td>\n",
       "      <td>1</td>\n",
       "      <td>...</td>\n",
       "      <td>6</td>\n",
       "      <td>2</td>\n",
       "      <td>14h30</td>\n",
       "      <td>Por guilherme macedo e raphael zarko</td>\n",
       "      <td>2</td>\n",
       "      <td>0</td>\n",
       "      <td>-</td>\n",
       "      <td>0</td>\n",
       "      <td>14.50</td>\n",
       "      <td>1</td>\n",
       "    </tr>\n",
       "    <tr>\n",
       "      <th>25701</th>\n",
       "      <td>ge.globo.com/mt/futebol/times/cuiaba/noticia/s...</td>\n",
       "      <td>4.0</td>\n",
       "      <td>Cuiaba</td>\n",
       "      <td>Sem joão lucas, cuiabá deve ter apenas uma alt...</td>\n",
       "      <td>15</td>\n",
       "      <td>O lateral-direito será desfalque por motivo du...</td>\n",
       "      <td>18</td>\n",
       "      <td>0</td>\n",
       "      <td>0</td>\n",
       "      <td>1</td>\n",
       "      <td>...</td>\n",
       "      <td>6</td>\n",
       "      <td>2</td>\n",
       "      <td>18h19</td>\n",
       "      <td>Por jonathas gabetel</td>\n",
       "      <td>1</td>\n",
       "      <td>1</td>\n",
       "      <td>veja</td>\n",
       "      <td>6</td>\n",
       "      <td>18.32</td>\n",
       "      <td>1</td>\n",
       "    </tr>\n",
       "    <tr>\n",
       "      <th>25702</th>\n",
       "      <td>ge.globo.com/pr/futebol/times/coritiba/noticia...</td>\n",
       "      <td>4.0</td>\n",
       "      <td>Coritiba</td>\n",
       "      <td>Coritiba vence a quarta seguida, completa 360 ...</td>\n",
       "      <td>17</td>\n",
       "      <td>Com gol de waguininho no primeiro tempo, corit...</td>\n",
       "      <td>29</td>\n",
       "      <td>0</td>\n",
       "      <td>0</td>\n",
       "      <td>1</td>\n",
       "      <td>...</td>\n",
       "      <td>6</td>\n",
       "      <td>1</td>\n",
       "      <td>20h54</td>\n",
       "      <td>Por fernando freire</td>\n",
       "      <td>1</td>\n",
       "      <td>0</td>\n",
       "      <td>-</td>\n",
       "      <td>0</td>\n",
       "      <td>20.90</td>\n",
       "      <td>0</td>\n",
       "    </tr>\n",
       "    <tr>\n",
       "      <th>25703</th>\n",
       "      <td>ge.globo.com/futebol/selecao-brasileira/notici...</td>\n",
       "      <td>4.0</td>\n",
       "      <td>Selecao-brasileira</td>\n",
       "      <td>Thiago silva evita críticas à conmebol, mas di...</td>\n",
       "      <td>19</td>\n",
       "      <td>Zagueiro da seleção brasileira também minimiza...</td>\n",
       "      <td>28</td>\n",
       "      <td>0</td>\n",
       "      <td>0</td>\n",
       "      <td>1</td>\n",
       "      <td>...</td>\n",
       "      <td>6</td>\n",
       "      <td>2</td>\n",
       "      <td>13h28</td>\n",
       "      <td>Por guilherme macedo e raphael zarko</td>\n",
       "      <td>2</td>\n",
       "      <td>0</td>\n",
       "      <td>-</td>\n",
       "      <td>0</td>\n",
       "      <td>13.47</td>\n",
       "      <td>1</td>\n",
       "    </tr>\n",
       "    <tr>\n",
       "      <th>25704</th>\n",
       "      <td>ge.globo.com/pa/futebol/times/remo/noticia/con...</td>\n",
       "      <td>4.0</td>\n",
       "      <td>Remo</td>\n",
       "      <td>Contra o coritiba, remo será comandado pelo au...</td>\n",
       "      <td>10</td>\n",
       "      <td>Profissional fica à beira do gramado enquanto ...</td>\n",
       "      <td>17</td>\n",
       "      <td>0</td>\n",
       "      <td>0</td>\n",
       "      <td>1</td>\n",
       "      <td>...</td>\n",
       "      <td>6</td>\n",
       "      <td>2</td>\n",
       "      <td>10h56</td>\n",
       "      <td>Por redação do ge</td>\n",
       "      <td>0</td>\n",
       "      <td>0</td>\n",
       "      <td>-</td>\n",
       "      <td>0</td>\n",
       "      <td>10.93</td>\n",
       "      <td>0</td>\n",
       "    </tr>\n",
       "  </tbody>\n",
       "</table>\n",
       "<p>25705 rows × 25 columns</p>\n",
       "</div>"
      ],
      "text/plain": [
       "                                                  Página  \\\n",
       "0      globoesporte.globo.com/futebol/times/sao-paulo...   \n",
       "1      globoesporte.globo.com/futebol/times/botafogo/...   \n",
       "2      globoesporte.globo.com/futebol/futebol-interna...   \n",
       "3      globoesporte.globo.com/futebol/times/corinthia...   \n",
       "4      globoesporte.globo.com/futebol/times/flamengo/...   \n",
       "...                                                  ...   \n",
       "25700  ge.globo.com/futebol/selecao-brasileira/notici...   \n",
       "25701  ge.globo.com/mt/futebol/times/cuiaba/noticia/s...   \n",
       "25702  ge.globo.com/pr/futebol/times/coritiba/noticia...   \n",
       "25703  ge.globo.com/futebol/selecao-brasileira/notici...   \n",
       "25704  ge.globo.com/pa/futebol/times/remo/noticia/con...   \n",
       "\n",
       "       Visualizações de página              Categoria  \\\n",
       "0                        727.0              Sao-paulo   \n",
       "1                        391.0               Botafogo   \n",
       "2                        387.0  Futebol-internacional   \n",
       "3                        372.0            Corinthians   \n",
       "4                        355.0               Flamengo   \n",
       "...                        ...                    ...   \n",
       "25700                      4.0     Selecao-brasileira   \n",
       "25701                      4.0                 Cuiaba   \n",
       "25702                      4.0               Coritiba   \n",
       "25703                      4.0     Selecao-brasileira   \n",
       "25704                      4.0                   Remo   \n",
       "\n",
       "                                                  Título  Ntítulo  \\\n",
       "0      São paulo troca de comando após 28ª eliminação...       16   \n",
       "1      Marcinho, ex-botafogo, é aguardado para presta...       16   \n",
       "2      Libertadores 2021 terá time que joga a 4 mil m...       17   \n",
       "3      Corinthians encerra contrato com 12 jogadores ...       13   \n",
       "4      Radar dos emprestados: yuri césar, ronaldo e h...       15   \n",
       "...                                                  ...      ...   \n",
       "25700  Thiago silva vê marquinhos entre os três melho...       17   \n",
       "25701  Sem joão lucas, cuiabá deve ter apenas uma alt...       15   \n",
       "25702  Coritiba vence a quarta seguida, completa 360 ...       17   \n",
       "25703  Thiago silva evita críticas à conmebol, mas di...       19   \n",
       "25704  Contra o coritiba, remo será comandado pelo au...       10   \n",
       "\n",
       "                                               Subtítulo  Nsubtítulo  Vídeo  \\\n",
       "0      Julio casares assume presidência na sexta com ...          15      0   \n",
       "1      Lateral é suspeito de dirigir carro em acident...          34      0   \n",
       "2      Always ready, de el alto, é campeão boliviano ...          29      0   \n",
       "3      Mauro boselli e sidcley estão entre os que se ...          13      0   \n",
       "4      Alex muralha chega ao fim do contrato com o fl...          25      0   \n",
       "...                                                  ...         ...    ...   \n",
       "25700  Jogador do chelsea ressalta maturidade do comp...          31      0   \n",
       "25701  O lateral-direito será desfalque por motivo du...          18      0   \n",
       "25702  Com gol de waguininho no primeiro tempo, corit...          29      0   \n",
       "25703  Zagueiro da seleção brasileira também minimiza...          28      0   \n",
       "25704  Profissional fica à beira do gramado enquanto ...          17      0   \n",
       "\n",
       "       Número de vídeo  Imagem  ...  Mês  Dia da semana Hora Publicação  \\\n",
       "0                    0       1  ...   12              3           07h00   \n",
       "1                    0       1  ...    1              4           11h49   \n",
       "2                    0       1  ...    1              4           06h00   \n",
       "3                    0       1  ...   12              3           11h00   \n",
       "4                    0       1  ...    1              4           05h00   \n",
       "...                ...     ...  ...  ...            ...             ...   \n",
       "25700                0       1  ...    6              2           14h30   \n",
       "25701                0       1  ...    6              2           18h19   \n",
       "25702                0       1  ...    6              1           20h54   \n",
       "25703                0       1  ...    6              2           13h28   \n",
       "25704                0       1  ...    6              2           10h56   \n",
       "\n",
       "                                         Autor Categorias Autores  CTA  \\\n",
       "0                           Por redação do ge                   0    0   \n",
       "1      Por felipe schmidt e rodrigo cerqueira                   2    0   \n",
       "2                           Por redação do ge                   0    1   \n",
       "3                           Por marcelo braga                   1    1   \n",
       "4                              Por fred huber                   1    1   \n",
       "...                                        ...                ...  ...   \n",
       "25700    Por guilherme macedo e raphael zarko                   2    0   \n",
       "25701                    Por jonathas gabetel                   1    1   \n",
       "25702                     Por fernando freire                   1    0   \n",
       "25703    Por guilherme macedo e raphael zarko                   2    0   \n",
       "25704                       Por redação do ge                   0    0   \n",
       "\n",
       "       Tipos de CTA CTAS Horário  Classificação Categorias  \n",
       "0                 -    0    7.00                         2  \n",
       "1                 -    0   11.82                         2  \n",
       "2              veja    6    6.00                         1  \n",
       "3              veja    6   11.00                         2  \n",
       "4              veja    6    5.00                         2  \n",
       "...             ...  ...     ...                       ...  \n",
       "25700             -    0   14.50                         1  \n",
       "25701          veja    6   18.32                         1  \n",
       "25702             -    0   20.90                         0  \n",
       "25703             -    0   13.47                         1  \n",
       "25704             -    0   10.93                         0  \n",
       "\n",
       "[25705 rows x 25 columns]"
      ]
     },
     "execution_count": 25,
     "metadata": {},
     "output_type": "execute_result"
    }
   ],
   "source": [
    "df"
   ]
  },
  {
   "cell_type": "code",
   "execution_count": 26,
   "metadata": {},
   "outputs": [
    {
     "name": "stdout",
     "output_type": "stream",
     "text": [
      "298\n",
      "69\n",
      "17\n"
     ]
    }
   ],
   "source": [
    "for k in df.groupby('Classificação Categorias')['Categoria'].unique():\n",
    "    print(len(k))"
   ]
  },
  {
   "cell_type": "code",
   "execution_count": 27,
   "metadata": {},
   "outputs": [],
   "source": [
    "# salvando o dataframe classificado\n",
    "df.to_csv(\"matérias_classificadas.csv\", index=False)"
   ]
  },
  {
   "cell_type": "code",
   "execution_count": 28,
   "metadata": {},
   "outputs": [
    {
     "data": {
      "text/plain": [
       "25705"
      ]
     },
     "execution_count": 28,
     "metadata": {},
     "output_type": "execute_result"
    }
   ],
   "source": [
    "df['Página'].count()"
   ]
  },
  {
   "cell_type": "code",
   "execution_count": 29,
   "metadata": {},
   "outputs": [
    {
     "data": {
      "text/plain": [
       "Classificação Categorias\n",
       "0     7339\n",
       "1     4016\n",
       "2    14350\n",
       "Name: Página, dtype: int64"
      ]
     },
     "execution_count": 29,
     "metadata": {},
     "output_type": "execute_result"
    }
   ],
   "source": [
    "df.groupby('Classificação Categorias')['Página'].count()"
   ]
  },
  {
   "cell_type": "code",
   "execution_count": 30,
   "metadata": {
    "tags": []
   },
   "outputs": [
    {
     "data": {
      "image/png": "[encoded data removed]",
      "text/plain": [
       "<Figure size 432x288 with 1 Axes>"
      ]
     },
     "metadata": {
      "needs_background": "light"
     },
     "output_type": "display_data"
    }
   ],
   "source": [
    "# quanto cada grupo representa em matérias\n",
    "grupos = ['Grupo 0', 'Grupo 1', 'Grupo 2']\n",
    "valores = [7339, 4016, 14350]\n",
    "plt.bar(grupos, valores)\n",
    "plt.show()"
   ]
  },
  {
   "cell_type": "code",
   "execution_count": 31,
   "metadata": {},
   "outputs": [
    {
     "data": {
      "text/plain": [
       "Classificação Categorias\n",
       "0    154976.0\n",
       "1    326933.0\n",
       "2    817530.0\n",
       "Name: Visualizações de página, dtype: float64"
      ]
     },
     "execution_count": 31,
     "metadata": {},
     "output_type": "execute_result"
    }
   ],
   "source": [
    "df.groupby('Classificação Categorias')['Visualizações de página'].sum()"
   ]
  },
  {
   "cell_type": "code",
   "execution_count": 32,
   "metadata": {
    "tags": []
   },
   "outputs": [
    {
     "data": {
      "image/png": "[encoded data removed]",
      "text/plain": [
       "<Figure size 432x288 with 1 Axes>"
      ]
     },
     "metadata": {
      "needs_background": "light"
     },
     "output_type": "display_data"
    }
   ],
   "source": [
    "# quanto cada grupo representa em pageviews\n",
    "grupos = ['Grupo 0', 'Grupo 1', 'Grupo 2']\n",
    "valores = [154976.0, 326933.0, 817530.0]\n",
    "plt.bar(grupos, valores)\n",
    "plt.show()"
   ]
  },
  {
   "cell_type": "markdown",
   "metadata": {},
   "source": [
    "## 3 - Modelo de classificação"
   ]
  },
  {
   "cell_type": "code",
   "execution_count": 33,
   "metadata": {},
   "outputs": [
    {
     "data": {
      "text/plain": [
       "2    14350\n",
       "0     7339\n",
       "1     4016\n",
       "Name: Classificação Categorias, dtype: int64"
      ]
     },
     "execution_count": 33,
     "metadata": {},
     "output_type": "execute_result"
    }
   ],
   "source": [
    "df[\"Classificação Categorias\"].value_counts()"
   ]
  },
  {
   "cell_type": "markdown",
   "metadata": {},
   "source": [
    "### Modelo Grupo 0"
   ]
  },
  {
   "cell_type": "code",
   "execution_count": 34,
   "metadata": {},
   "outputs": [
    {
     "name": "stdout",
     "output_type": "stream",
     "text": [
      "                 precision    recall  f1-score   support\n",
      "\n",
      "Abaixo da média       0.79      1.00      0.88      1150\n",
      " Acima da média       1.00      0.02      0.04       318\n",
      "\n",
      "       accuracy                           0.79      1468\n",
      "      macro avg       0.89      0.51      0.46      1468\n",
      "   weighted avg       0.83      0.79      0.70      1468\n",
      "\n"
     ]
    }
   ],
   "source": [
    "df0 = pd.DataFrame(df.loc[df[\"Classificação Categorias\"]==0])\n",
    "media_view = round(df0['Visualizações de página'].mean())\n",
    "media = []\n",
    "for i in df0['Visualizações de página']:\n",
    "    if i >= media_view:\n",
    "        media.append(\"Acima da média\") \n",
    "    elif i < media_view:\n",
    "        media.append(\"Abaixo da média\")\n",
    "\n",
    "df0['Perfomance Matérias'] = media\n",
    "labels=[\"Acima da média\", \"Abaixo da média\"]\n",
    "subset = df0.loc[df0[\"Perfomance Matérias\"].isin(labels),:]\n",
    "features = ['Ntítulo', 'Nsubtítulo', 'Vídeo',\n",
    "       'Imagem', 'Número de imagens', 'Palavras no texto',\n",
    "       'Contém tag', 'Mês', 'Dia da semana',\n",
    "       'Horário', 'Categorias Autores',\n",
    "       'CTAS']\n",
    "target = \"Perfomance Matérias\"\n",
    "X = subset[features]\n",
    "Y = subset[target]\n",
    "label_encoder = LabelEncoder()\n",
    "y = label_encoder.fit(Y).transform(Y)\n",
    "X_train, X_test, Y_train, Y_test = train_test_split(X, Y, test_size=.2, random_state=42, stratify=Y, shuffle=True)\n",
    "scaler = StandardScaler()\n",
    "scaler.fit(X_train)\n",
    "X_train = scaler.transform(X_train)\n",
    "X_test = scaler.transform(X_test)\n",
    "clf = RandomForestClassifier(n_estimators=50,\n",
    "                             max_depth=6,\n",
    "                             max_features=.8,\n",
    "                             max_samples=.8,\n",
    "                             random_state=12345, oob_score=True)\n",
    "clf.fit(X_train, Y_train)\n",
    "y_pred = clf.predict(X_test)\n",
    "y_pred_train = clf.predict(X_train)\n",
    "print(classification_report(Y_test, y_pred))"
   ]
  },
  {
   "cell_type": "code",
   "execution_count": 35,
   "metadata": {},
   "outputs": [
    {
     "data": {
      "text/plain": [
       "0.6194052502050862"
      ]
     },
     "execution_count": 35,
     "metadata": {},
     "output_type": "execute_result"
    }
   ],
   "source": [
    "roc_auc_score(Y_test, clf.predict_proba(X_test)[:, 1])"
   ]
  },
  {
   "cell_type": "code",
   "execution_count": 36,
   "metadata": {},
   "outputs": [
    {
     "name": "stdout",
     "output_type": "stream",
     "text": [
      "Fitting 3 folds for each of 100 candidates, totalling 300 fits\n"
     ]
    },
    {
     "data": {
      "text/plain": [
       "{'n_estimators': 1800,\n",
       " 'min_samples_split': 2,\n",
       " 'min_samples_leaf': 2,\n",
       " 'max_features': 'auto',\n",
       " 'max_depth': None,\n",
       " 'bootstrap': True}"
      ]
     },
     "execution_count": 36,
     "metadata": {},
     "output_type": "execute_result"
    }
   ],
   "source": [
    "# Number of trees in random forest\n",
    "n_estimators = [int(x) for x in np.linspace(start = 200, stop = 2000, num = 10)]\n",
    "# Number of features to consider at every split\n",
    "max_features = ['auto', 'sqrt']\n",
    "# Maximum number of levels in tree\n",
    "max_depth = [int(x) for x in np.linspace(10, 110, num = 11)]\n",
    "max_depth.append(None)\n",
    "# Minimum number of samples required to split a node\n",
    "min_samples_split = [2, 5, 10]\n",
    "# Minimum number of samples required at each leaf node\n",
    "min_samples_leaf = [1, 2, 4]\n",
    "# Method of selecting samples for training each tree\n",
    "bootstrap = [True, False]\n",
    "# Create the random grid\n",
    "random_grid = {'n_estimators': n_estimators,\n",
    "               'max_features': max_features,\n",
    "               'max_depth': max_depth,\n",
    "               'min_samples_split': min_samples_split,\n",
    "               'min_samples_leaf': min_samples_leaf,\n",
    "               'bootstrap': bootstrap}\n",
    "#print(random_grid)\n",
    "# Use the random grid to search for best hyperparameters\n",
    "# First create the base model to tune\n",
    "rf = RandomForestClassifier()\n",
    "# Random search of parameters, using 3 fold cross validation, \n",
    "# search across 100 different combinations, and use all available cores\n",
    "rf_random = RandomizedSearchCV(estimator = rf, param_distributions = random_grid, n_iter = 100, cv = 3, verbose=2, random_state=42, n_jobs = -1)\n",
    "# Fit the random search model\n",
    "rf_random.fit(X_train, Y_train)\n",
    "rf_random.best_params_"
   ]
  },
  {
   "cell_type": "code",
   "execution_count": 53,
   "metadata": {},
   "outputs": [
    {
     "name": "stdout",
     "output_type": "stream",
     "text": [
      "                 precision    recall  f1-score   support\n",
      "\n",
      "Abaixo da média       0.80      0.99      0.88      1150\n",
      " Acima da média       0.68      0.08      0.15       318\n",
      "\n",
      "       accuracy                           0.79      1468\n",
      "      macro avg       0.74      0.54      0.51      1468\n",
      "   weighted avg       0.77      0.79      0.72      1468\n",
      "\n"
     ]
    }
   ],
   "source": [
    "df0 = pd.DataFrame(df.loc[df[\"Classificação Categorias\"]==0])\n",
    "media_view = round(df0['Visualizações de página'].mean())\n",
    "media = []\n",
    "for i in df0['Visualizações de página']:\n",
    "    if i >= media_view:\n",
    "        media.append(\"Acima da média\") \n",
    "    elif i < media_view:\n",
    "        media.append(\"Abaixo da média\")\n",
    "\n",
    "df0['Perfomance Matérias'] = media\n",
    "labels=[\"Acima da média\", \"Abaixo da média\"]\n",
    "subset = df0.loc[df0[\"Perfomance Matérias\"].isin(labels),:]\n",
    "features = ['Ntítulo', 'Nsubtítulo', 'Vídeo',\n",
    "       'Imagem', 'Número de imagens', 'Palavras no texto',\n",
    "       'Contém tag', 'Mês', 'Dia da semana',\n",
    "       'Horário', 'Categorias Autores',\n",
    "       'CTAS']\n",
    "target = \"Perfomance Matérias\"\n",
    "X = subset[features]\n",
    "Y = subset[target]\n",
    "label_encoder = LabelEncoder()\n",
    "y = label_encoder.fit(Y).transform(Y)\n",
    "X_train, X_test, Y_train, Y_test = train_test_split(X, Y, test_size=.2, random_state=42, stratify=Y, shuffle=True)\n",
    "scaler = StandardScaler()\n",
    "scaler.fit(X_train)\n",
    "X_train = scaler.transform(X_train)\n",
    "X_test = scaler.transform(X_test)\n",
    "clf = RandomForestClassifier(n_estimators=1800,\n",
    "                             min_samples_split=2,\n",
    "                             min_samples_leaf=2,\n",
    "                             max_features='auto',\n",
    "                             max_depth=None,\n",
    "                             bootstrap=True,\n",
    "                            random_state=12345, oob_score=True)\n",
    "clf.fit(X_train, Y_train)\n",
    "y_pred = clf.predict(X_test)\n",
    "y_pred_train = clf.predict(X_train)\n",
    "print(classification_report(Y_test, y_pred))"
   ]
  },
  {
   "cell_type": "code",
   "execution_count": 54,
   "metadata": {},
   "outputs": [
    {
     "data": {
      "text/plain": [
       "0.622831555920153"
      ]
     },
     "execution_count": 54,
     "metadata": {},
     "output_type": "execute_result"
    }
   ],
   "source": [
    "roc_auc_score(Y_test, clf.predict_proba(X_test)[:, 1])"
   ]
  },
  {
   "cell_type": "markdown",
   "metadata": {},
   "source": [
    "### Modelo Grupo 1"
   ]
  },
  {
   "cell_type": "code",
   "execution_count": 39,
   "metadata": {},
   "outputs": [
    {
     "name": "stdout",
     "output_type": "stream",
     "text": [
      "                 precision    recall  f1-score   support\n",
      "\n",
      "Abaixo da média       0.76      0.96      0.85       587\n",
      " Acima da média       0.64      0.19      0.30       217\n",
      "\n",
      "       accuracy                           0.75       804\n",
      "      macro avg       0.70      0.58      0.57       804\n",
      "   weighted avg       0.73      0.75      0.70       804\n",
      "\n"
     ]
    }
   ],
   "source": [
    "df1 = pd.DataFrame(df.loc[df[\"Classificação Categorias\"]==1])\n",
    "media_view = round(df1['Visualizações de página'].mean())\n",
    "media = []\n",
    "for i in df1['Visualizações de página']:\n",
    "    if i >= media_view:\n",
    "        media.append(\"Acima da média\") \n",
    "    elif i < media_view:\n",
    "        media.append(\"Abaixo da média\")\n",
    "\n",
    "df1['Perfomance Matérias'] = media\n",
    "labels=[\"Acima da média\", \"Abaixo da média\"]\n",
    "subset = df1.loc[df1[\"Perfomance Matérias\"].isin(labels),:]\n",
    "features = ['Ntítulo', 'Nsubtítulo', 'Vídeo',\n",
    "       'Imagem', 'Número de imagens', 'Palavras no texto',\n",
    "       'Contém tag', 'Mês', 'Dia da semana',\n",
    "       'Horário', 'Categorias Autores',\n",
    "       'CTAS']\n",
    "target = \"Perfomance Matérias\"\n",
    "X = subset[features]\n",
    "Y = subset[target]\n",
    "label_encoder = LabelEncoder()\n",
    "y = label_encoder.fit(Y).transform(Y)\n",
    "X_train, X_test, Y_train, Y_test = train_test_split(X, Y, test_size=.2, random_state=42, stratify=Y, shuffle=True)\n",
    "scaler = StandardScaler()\n",
    "scaler.fit(X_train)\n",
    "X_train = scaler.transform(X_train)\n",
    "X_test = scaler.transform(X_test)\n",
    "clf = RandomForestClassifier(n_estimators=50,\n",
    "                             max_depth=6,\n",
    "                             max_features=.8,\n",
    "                             max_samples=.8,\n",
    "                            random_state=12345, oob_score=True)\n",
    "clf.fit(X_train, Y_train)\n",
    "y_pred = clf.predict(X_test)\n",
    "y_pred_train = clf.predict(X_train)\n",
    "print(classification_report(Y_test, y_pred))"
   ]
  },
  {
   "cell_type": "code",
   "execution_count": 40,
   "metadata": {},
   "outputs": [
    {
     "data": {
      "text/plain": [
       "0.6744793097763367"
      ]
     },
     "execution_count": 40,
     "metadata": {},
     "output_type": "execute_result"
    }
   ],
   "source": [
    "roc_auc_score(Y_test, clf.predict_proba(X_test)[:, 1])"
   ]
  },
  {
   "cell_type": "code",
   "execution_count": 41,
   "metadata": {},
   "outputs": [
    {
     "name": "stdout",
     "output_type": "stream",
     "text": [
      "Fitting 3 folds for each of 100 candidates, totalling 300 fits\n"
     ]
    },
    {
     "data": {
      "text/plain": [
       "{'n_estimators': 800,\n",
       " 'min_samples_split': 2,\n",
       " 'min_samples_leaf': 4,\n",
       " 'max_features': 'sqrt',\n",
       " 'max_depth': 90,\n",
       " 'bootstrap': True}"
      ]
     },
     "execution_count": 41,
     "metadata": {},
     "output_type": "execute_result"
    }
   ],
   "source": [
    "# Calibração dos hiperparametros\n",
    "# Number of trees in random forest\n",
    "n_estimators = [int(x) for x in np.linspace(start = 200, stop = 2000, num = 10)]\n",
    "# Number of features to consider at every split\n",
    "max_features = ['auto', 'sqrt']\n",
    "# Maximum number of levels in tree\n",
    "max_depth = [int(x) for x in np.linspace(10, 110, num = 11)]\n",
    "max_depth.append(None)\n",
    "# Minimum number of samples required to split a node\n",
    "min_samples_split = [2, 5, 10]\n",
    "# Minimum number of samples required at each leaf node\n",
    "min_samples_leaf = [1, 2, 4]\n",
    "# Method of selecting samples for training each tree\n",
    "bootstrap = [True, False]\n",
    "# Create the random grid\n",
    "random_grid = {'n_estimators': n_estimators,\n",
    "               'max_features': max_features,\n",
    "               'max_depth': max_depth,\n",
    "               'min_samples_split': min_samples_split,\n",
    "               'min_samples_leaf': min_samples_leaf,\n",
    "               'bootstrap': bootstrap}\n",
    "#print(random_grid)\n",
    "# Use the random grid to search for best hyperparameters\n",
    "# First create the base model to tune\n",
    "rf = RandomForestClassifier()\n",
    "# Random search of parameters, using 3 fold cross validation, \n",
    "# search across 100 different combinations, and use all available cores\n",
    "rf_random = RandomizedSearchCV(estimator = rf, param_distributions = random_grid, n_iter = 100, cv = 3, verbose=2, random_state=42, n_jobs = -1)\n",
    "# Fit the random search model\n",
    "rf_random.fit(X_train, Y_train)\n",
    "rf_random.best_params_"
   ]
  },
  {
   "cell_type": "code",
   "execution_count": 51,
   "metadata": {},
   "outputs": [
    {
     "name": "stdout",
     "output_type": "stream",
     "text": [
      "                 precision    recall  f1-score   support\n",
      "\n",
      "Abaixo da média       0.77      0.97      0.86       587\n",
      " Acima da média       0.70      0.21      0.32       217\n",
      "\n",
      "       accuracy                           0.76       804\n",
      "      macro avg       0.74      0.59      0.59       804\n",
      "   weighted avg       0.75      0.76      0.71       804\n",
      "\n"
     ]
    }
   ],
   "source": [
    "df1 = pd.DataFrame(df.loc[df[\"Classificação Categorias\"]==1])\n",
    "media_view = round(df1['Visualizações de página'].mean())\n",
    "media = []\n",
    "for i in df1['Visualizações de página']:\n",
    "    if i >= media_view:\n",
    "        media.append(\"Acima da média\") \n",
    "    elif i < media_view:\n",
    "        media.append(\"Abaixo da média\")\n",
    "\n",
    "df1['Perfomance Matérias'] = media\n",
    "labels=[\"Acima da média\", \"Abaixo da média\"]\n",
    "subset = df1.loc[df1[\"Perfomance Matérias\"].isin(labels),:]\n",
    "features = ['Ntítulo', 'Nsubtítulo', 'Vídeo',\n",
    "       'Imagem', 'Número de imagens', 'Palavras no texto',\n",
    "       'Contém tag', 'Mês', 'Dia da semana',\n",
    "       'Horário', 'Categorias Autores',\n",
    "       'CTAS']\n",
    "target = \"Perfomance Matérias\"\n",
    "X = subset[features]\n",
    "Y = subset[target]\n",
    "label_encoder = LabelEncoder()\n",
    "y = label_encoder.fit(Y).transform(Y)\n",
    "X_train, X_test, Y_train, Y_test = train_test_split(X, Y, test_size=.2, random_state=42, stratify=Y, shuffle=True)\n",
    "scaler = StandardScaler()\n",
    "scaler.fit(X_train)\n",
    "X_train = scaler.transform(X_train)\n",
    "X_test = scaler.transform(X_test)\n",
    "clf = RandomForestClassifier(n_estimators=800,\n",
    "                             min_samples_split=2,\n",
    "                             min_samples_leaf=4,\n",
    "                             max_features='sqrt',\n",
    "                             max_depth=90,\n",
    "                             bootstrap=True,\n",
    "                            random_state=12345, oob_score=True)\n",
    "clf.fit(X_train, Y_train)\n",
    "y_pred = clf.predict(X_test)\n",
    "y_pred_train = clf.predict(X_train)\n",
    "print(classification_report(Y_test, y_pred))"
   ]
  },
  {
   "cell_type": "code",
   "execution_count": 52,
   "metadata": {},
   "outputs": [
    {
     "data": {
      "text/plain": [
       "0.6922922930781368"
      ]
     },
     "execution_count": 52,
     "metadata": {},
     "output_type": "execute_result"
    }
   ],
   "source": [
    "roc_auc_score(Y_test, clf.predict_proba(X_test)[:, 1])"
   ]
  },
  {
   "cell_type": "markdown",
   "metadata": {},
   "source": [
    "### Modelo Grupo 2"
   ]
  },
  {
   "cell_type": "code",
   "execution_count": 44,
   "metadata": {},
   "outputs": [
    {
     "name": "stdout",
     "output_type": "stream",
     "text": [
      "                 precision    recall  f1-score   support\n",
      "\n",
      "Abaixo da média       0.77      0.98      0.87      2160\n",
      " Acima da média       0.71      0.13      0.21       710\n",
      "\n",
      "       accuracy                           0.77      2870\n",
      "      macro avg       0.74      0.55      0.54      2870\n",
      "   weighted avg       0.76      0.77      0.70      2870\n",
      "\n"
     ]
    }
   ],
   "source": [
    "df2 = pd.DataFrame(df.loc[df[\"Classificação Categorias\"]==2])\n",
    "media_view = round(df2['Visualizações de página'].mean())\n",
    "media = []\n",
    "for i in df2['Visualizações de página']:\n",
    "    if i >= media_view:\n",
    "        media.append(\"Acima da média\") \n",
    "    elif i < media_view:\n",
    "        media.append(\"Abaixo da média\")\n",
    "\n",
    "df2['Perfomance Matérias'] = media\n",
    "labels=[\"Acima da média\", \"Abaixo da média\"]\n",
    "subset = df2.loc[df2[\"Perfomance Matérias\"].isin(labels),:]\n",
    "features = ['Ntítulo', 'Nsubtítulo', 'Vídeo',\n",
    "       'Imagem', 'Número de imagens', 'Palavras no texto',\n",
    "       'Contém tag', 'Mês', 'Dia da semana',\n",
    "       'Horário', 'Categorias Autores',\n",
    "       'CTAS']\n",
    "target = \"Perfomance Matérias\"\n",
    "X = subset[features]\n",
    "Y = subset[target]\n",
    "label_encoder = LabelEncoder()\n",
    "y = label_encoder.fit(Y).transform(Y)\n",
    "X_train, X_test, Y_train, Y_test = train_test_split(X, Y, test_size=.2, random_state=42, stratify=Y, shuffle=True)\n",
    "scaler = StandardScaler()\n",
    "scaler.fit(X_train)\n",
    "X_train = scaler.transform(X_train)\n",
    "X_test = scaler.transform(X_test)\n",
    "clf = RandomForestClassifier(n_estimators=50,\n",
    "                              max_depth=6,\n",
    "                              max_features=.8,\n",
    "                              max_samples=.8,\n",
    "                             random_state=12345, oob_score=True)\n",
    "clf.fit(X_train, Y_train)\n",
    "y_pred = clf.predict(X_test)\n",
    "y_pred_train = clf.predict(X_train)\n",
    "print(classification_report(Y_test, y_pred))"
   ]
  },
  {
   "cell_type": "code",
   "execution_count": 45,
   "metadata": {},
   "outputs": [
    {
     "data": {
      "text/plain": [
       "0.7161795774647888"
      ]
     },
     "execution_count": 45,
     "metadata": {},
     "output_type": "execute_result"
    }
   ],
   "source": [
    "from sklearn.metrics import roc_auc_score\n",
    "roc_auc_score(Y_test, clf.predict_proba(X_test)[:, 1])"
   ]
  },
  {
   "cell_type": "code",
   "execution_count": 46,
   "metadata": {},
   "outputs": [
    {
     "name": "stdout",
     "output_type": "stream",
     "text": [
      "Fitting 3 folds for each of 100 candidates, totalling 300 fits\n"
     ]
    },
    {
     "data": {
      "text/plain": [
       "{'n_estimators': 1600,\n",
       " 'min_samples_split': 2,\n",
       " 'min_samples_leaf': 4,\n",
       " 'max_features': 'sqrt',\n",
       " 'max_depth': 10,\n",
       " 'bootstrap': True}"
      ]
     },
     "execution_count": 46,
     "metadata": {},
     "output_type": "execute_result"
    }
   ],
   "source": [
    "# Number of trees in random forest\n",
    "n_estimators = [int(x) for x in np.linspace(start = 200, stop = 2000, num = 10)]\n",
    "# Number of features to consider at every split\n",
    "max_features = ['auto', 'sqrt']\n",
    "# Maximum number of levels in tree\n",
    "max_depth = [int(x) for x in np.linspace(10, 110, num = 11)]\n",
    "max_depth.append(None)\n",
    "# Minimum number of samples required to split a node\n",
    "min_samples_split = [2, 5, 10]\n",
    "# Minimum number of samples required at each leaf node\n",
    "min_samples_leaf = [1, 2, 4]\n",
    "# Method of selecting samples for training each tree\n",
    "bootstrap = [True, False]\n",
    "# Create the random grid\n",
    "random_grid = {'n_estimators': n_estimators,\n",
    "               'max_features': max_features,\n",
    "               'max_depth': max_depth,\n",
    "               'min_samples_split': min_samples_split,\n",
    "               'min_samples_leaf': min_samples_leaf,\n",
    "               'bootstrap': bootstrap}\n",
    "#print(random_grid)\n",
    "# Use the random grid to search for best hyperparameters\n",
    "# First create the base model to tune\n",
    "rf = RandomForestClassifier()\n",
    "# Random search of parameters, using 3 fold cross validation, \n",
    "# search across 100 different combinations, and use all available cores\n",
    "rf_random = RandomizedSearchCV(estimator = rf, param_distributions = random_grid, n_iter = 100, cv = 3, verbose=2, random_state=42, n_jobs = -1)\n",
    "# Fit the random search model\n",
    "rf_random.fit(X_train, Y_train)\n",
    "rf_random.best_params_"
   ]
  },
  {
   "cell_type": "code",
   "execution_count": 49,
   "metadata": {},
   "outputs": [
    {
     "name": "stdout",
     "output_type": "stream",
     "text": [
      "                 precision    recall  f1-score   support\n",
      "\n",
      "Abaixo da média       0.77      0.99      0.87      2160\n",
      " Acima da média       0.75      0.12      0.20       710\n",
      "\n",
      "       accuracy                           0.77      2870\n",
      "      macro avg       0.76      0.55      0.53      2870\n",
      "   weighted avg       0.77      0.77      0.70      2870\n",
      "\n"
     ]
    }
   ],
   "source": [
    "df2 = pd.DataFrame(df.loc[df[\"Classificação Categorias\"]==2])\n",
    "media_view = round(df2['Visualizações de página'].mean())\n",
    "media = []\n",
    "for i in df2['Visualizações de página']:\n",
    "    if i >= media_view:\n",
    "        media.append(\"Acima da média\") \n",
    "    elif i < media_view:\n",
    "        media.append(\"Abaixo da média\")\n",
    "\n",
    "df2['Perfomance Matérias'] = media\n",
    "labels=[\"Acima da média\", \"Abaixo da média\"]\n",
    "subset = df2.loc[df2[\"Perfomance Matérias\"].isin(labels),:]\n",
    "features = ['Ntítulo', 'Nsubtítulo', 'Vídeo',\n",
    "       'Imagem', 'Número de imagens', 'Palavras no texto',\n",
    "       'Contém tag', 'Mês', 'Dia da semana',\n",
    "       'Horário', 'Categorias Autores',\n",
    "       'CTAS']\n",
    "target = \"Perfomance Matérias\"\n",
    "X = subset[features]\n",
    "Y = subset[target]\n",
    "label_encoder = LabelEncoder()\n",
    "y = label_encoder.fit(Y).transform(Y)\n",
    "X_train, X_test, Y_train, Y_test = train_test_split(X, Y, test_size=.2, random_state=42, stratify=Y, shuffle=True)\n",
    "scaler = StandardScaler()\n",
    "scaler.fit(X_train)\n",
    "X_train = scaler.transform(X_train)\n",
    "X_test = scaler.transform(X_test)\n",
    "clf = RandomForestClassifier(n_estimators=1600,\n",
    "                             min_samples_split=2,\n",
    "                             min_samples_leaf=4,\n",
    "                             max_features='sqrt',\n",
    "                             max_depth=10,\n",
    "                             bootstrap=True,\n",
    "                             random_state=12345)\n",
    "clf.fit(X_train, Y_train)\n",
    "y_pred = clf.predict(X_test)\n",
    "y_pred_train = clf.predict(X_train)\n",
    "print(classification_report(Y_test, y_pred))"
   ]
  },
  {
   "cell_type": "code",
   "execution_count": 50,
   "metadata": {},
   "outputs": [
    {
     "data": {
      "text/plain": [
       "0.7308512649973917"
      ]
     },
     "execution_count": 50,
     "metadata": {},
     "output_type": "execute_result"
    }
   ],
   "source": [
    "from sklearn.metrics import roc_auc_score\n",
    "roc_auc_score(Y_test, clf.predict_proba(X_test)[:, 1])"
   ]
  }
 ],
 "metadata": {
  "kernelspec": {
   "display_name": "Python 3",
   "language": "python",
   "name": "python3"
  },
  "language_info": {
   "codemirror_mode": {
    "name": "ipython",
    "version": 3
   },
   "file_extension": ".py",
   "mimetype": "text/x-python",
   "name": "python",
   "nbconvert_exporter": "python",
   "pygments_lexer": "ipython3",
   "version": "3.8.8"
  }
 },
 "nbformat": 4,
 "nbformat_minor": 4
}
